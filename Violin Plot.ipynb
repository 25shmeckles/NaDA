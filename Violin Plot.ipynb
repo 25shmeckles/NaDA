{
 "cells": [
  {
   "cell_type": "code",
   "execution_count": 7,
   "metadata": {
    "collapsed": true
   },
   "outputs": [],
   "source": [
    "%matplotlib inline\n",
    "from collections import Counter\n",
    "import douwelib as dl\n",
    "import os, glob, statistics, numpy as np, matplotlib.pyplot as plt\n"
   ]
  },
  {
   "cell_type": "code",
   "execution_count": 8,
   "metadata": {},
   "outputs": [
    {
     "data": {
      "image/png": "[encoded data removed]",
      "text/plain": [
       "<matplotlib.figure.Figure at 0x1bcc8c52a58>"
      ]
     },
     "metadata": {},
     "output_type": "display_data"
    }
   ],
   "source": [
    "path = 'C:/Users/Douwe/Documents/Python/Sequence_files'\n",
    "data = dl.parse_fasta_file_stripscores(path)             #strips scores from all done_fastq files in path         \n",
    "#print(data)\n",
    "\n",
    "error_rates = []                                         #converts quality score into value\n",
    "for symboles in data:\n",
    "    error_rates.append(dl.convert_qualityscore(symboles))\n",
    "    \n",
    "meanscores = [statistics.mean(s) for s in error_rates]   #gets meanscore of all files\n",
    "\n",
    "results = meanscores                    \n",
    "dl.violin_plot(results)                                  #violin plot meanscores\n",
    "\n",
    "#results = np.array(error_rates[0:10])            \n",
    "#dl.violin_plot(results)                                  #violin plot quality score distribution"
   ]
  },
  {
   "cell_type": "code",
   "execution_count": null,
   "metadata": {
    "collapsed": true
   },
   "outputs": [],
   "source": [
    "#Extra Notes from here on out"
   ]
  },
  {
   "cell_type": "code",
   "execution_count": null,
   "metadata": {
    "collapsed": true
   },
   "outputs": [],
   "source": [
    "#             elif line.startswith('@'):\n",
    "#                 #skip id_\n",
    "#                 continue\n",
    "#             #skip bases\n",
    "#             elif line.startswith('A'):\n",
    "#                 continue\n",
    "#             elif line.startswith('C'):\n",
    "#                 continue\n",
    "#             elif line.startswith('T'):\n",
    "#                 continue\n",
    "#             elif line.startswith('G'):\n",
    "#                 continue\n",
    "#             else:\n",
    "#                 score_ = line.strip()\n",
    "#                 data.append(score_)\n",
    "#                 score_ = False\n",
    "                \n",
    "                \n",
    "#standard for-loop\n",
    "#meanscores = []\n",
    "#for s in error_rates:\n",
    "#    meanscores.append(statistics.mean(s))\n",
    "    "
   ]
  }
 ],
 "metadata": {
  "kernelspec": {
   "display_name": "Python 3",
   "language": "python",
   "name": "python3"
  },
  "language_info": {
   "codemirror_mode": {
    "name": "ipython",
    "version": 3
   },
   "file_extension": ".py",
   "mimetype": "text/x-python",
   "name": "python",
   "nbconvert_exporter": "python",
   "pygments_lexer": "ipython3",
   "version": "3.6.3"
  }
 },
 "nbformat": 4,
 "nbformat_minor": 2
}
