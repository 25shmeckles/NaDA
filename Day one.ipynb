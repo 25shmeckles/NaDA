{
 "cells": [
  {
   "cell_type": "code",
   "execution_count": 5,
   "metadata": {
    "collapsed": true
   },
   "outputs": [],
   "source": [
    "%matplotlib inline\n",
    "from collections import Counter\n",
    "import douwelib as dl"
   ]
  },
  {
   "cell_type": "code",
   "execution_count": 6,
   "metadata": {},
   "outputs": [
    {
     "name": "stdout",
     "output_type": "stream",
     "text": [
      "WARNING: The sequence \">oooo\" contained unexpected chars and it was skipped\n"
     ]
    },
    {
     "data": {
      "image/png": "[encoded data removed]",
      "text/plain": [
       "<matplotlib.figure.Figure at 0x2263da796a0>"
      ]
     },
     "metadata": {},
     "output_type": "display_data"
    }
   ],
   "source": [
    "### Plot sequence lenght distribution of a fasta file\n",
    "file_name = 'untitled.txt'\n",
    "\n",
    "data = dl.parse_fasta_file(file_name)\n",
    "seq_len_dist = Counter()\n",
    "for id_, sequence in data.items():\n",
    "    seq_len_dist.update({len(sequence)})\n",
    "    \n",
    "all_x = []\n",
    "all_y = []\n",
    "for x ,y in seq_len_dist.items():\n",
    "    all_x.append(x)\n",
    "    all_y.append(y)\n",
    "    \n",
    "dl.plot_read_lenght(all_x, all_y)"
   ]
  },
  {
   "cell_type": "code",
   "execution_count": null,
   "metadata": {
    "collapsed": true
   },
   "outputs": [],
   "source": [
    "#Extra Notes from here on out"
   ]
  },
  {
   "cell_type": "code",
   "execution_count": null,
   "metadata": {},
   "outputs": [],
   "source": [
    "warning_code"
   ]
  },
  {
   "cell_type": "code",
   "execution_count": null,
   "metadata": {
    "collapsed": true
   },
   "outputs": [],
   "source": [
    "# How to properly open a file\n",
    "file_name = 'untitled.txt'\n",
    "\n",
    "data = dl.parse_fasta_file(file_name)\n",
    "print(data)\n",
    "\n"
   ]
  },
  {
   "cell_type": "code",
   "execution_count": null,
   "metadata": {
    "collapsed": true
   },
   "outputs": [],
   "source": [
    "a = [1,2,3,3,3,3,3,3]\n",
    "c = Counter(a)\n",
    "c.update({9})\n",
    "c.update({3})"
   ]
  },
  {
   "cell_type": "code",
   "execution_count": null,
   "metadata": {
    "collapsed": true
   },
   "outputs": [],
   "source": [
    "    plt.title('sequence lenght distribution')\n",
    "    plt.axis([0, 250, 1, 7])"
   ]
  },
  {
   "cell_type": "code",
   "execution_count": null,
   "metadata": {
    "collapsed": true
   },
   "outputs": [],
   "source": [
    "try:\n",
    "    d['B'] += 1\n",
    "except KeyError:\n",
    "    d['B'] = 10\n",
    "print(d)"
   ]
  },
  {
   "cell_type": "code",
   "execution_count": null,
   "metadata": {
    "collapsed": true
   },
   "outputs": [],
   "source": [
    "del d['B']"
   ]
  },
  {
   "cell_type": "code",
   "execution_count": null,
   "metadata": {
    "collapsed": true
   },
   "outputs": [],
   "source": [
    "s = 'LORLPELSOOSPAOEMMKHKKHN'\n",
    "g = 'ATCGN'\n",
    "for letter in s.upper():\n",
    "    if letter not in g:\n",
    "        print(f'{letter} is not in {g}')\n",
    "    else:\n",
    "         print(f'{letter} is in {g}')"
   ]
  },
  {
   "cell_type": "code",
   "execution_count": null,
   "metadata": {
    "collapsed": true
   },
   "outputs": [],
   "source": [
    "def parse_fasta_file(file_name):\n",
    "    return data_dict"
   ]
  }
 ],
 "metadata": {
  "kernelspec": {
   "display_name": "Python 3",
   "language": "python",
   "name": "python3"
  },
  "language_info": {
   "codemirror_mode": {
    "name": "ipython",
    "version": 3
   },
   "file_extension": ".py",
   "mimetype": "text/x-python",
   "name": "python",
   "nbconvert_exporter": "python",
   "pygments_lexer": "ipython3",
   "version": "3.6.3"
  }
 },
 "nbformat": 4,
 "nbformat_minor": 2
}
