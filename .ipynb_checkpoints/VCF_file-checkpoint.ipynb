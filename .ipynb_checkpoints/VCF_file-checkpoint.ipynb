{
 "cells": [
  {
   "cell_type": "code",
   "execution_count": null,
   "metadata": {},
   "outputs": [],
   "source": [
    "import douwelib as dl, os, glob, numpy as np, pandas as pd\n",
    "from collections import defaultdict, Counter\n",
    "from bokeh.plotting import figure, output_file, show\n",
    "from bokeh.layouts import gridplot\n",
    "from math import pi\n",
    "from bokeh.models import NumeralTickFormatter, ColumnDataSource, HoverTool, LinearColorMapper, BasicTicker, PrintfTickFormatter, ColorBar"
   ]
  },
  {
   "cell_type": "code",
   "execution_count": null,
   "metadata": {
    "collapsed": true
   },
   "outputs": [],
   "source": [
    "#5-12 for 6th, Sphinx documentation of what have done so far and making presentation"
   ]
  },
  {
   "cell_type": "code",
   "execution_count": null,
   "metadata": {
    "collapsed": true
   },
   "outputs": [],
   "source": [
    "path = 'C:/Users/Douwe/Documents/Python/variantcalling/tmp/20171110_1634_HN_TP53_test1_0'\n",
    "\n",
    "data = dl.vcf_all_strip(path, 'no', 'no')[1]\n",
    "data_ = dl.vcf_all_strip(path, 'no', 'no')[3]"
   ]
  },
  {
   "cell_type": "code",
   "execution_count": null,
   "metadata": {},
   "outputs": [],
   "source": [
    "dl.plot_vcf_snps(data)"
   ]
  },
  {
   "cell_type": "code",
   "execution_count": null,
   "metadata": {},
   "outputs": [],
   "source": [
    "#heatmap\n",
    "#Dictionary with sequence : list of dictionary with A, C, T, G\n",
    "data_dict = dl.vcf_heatmap_snps(data, data_)"
   ]
  },
  {
   "cell_type": "code",
   "execution_count": null,
   "metadata": {},
   "outputs": [],
   "source": [
    "x = list(data_dict.keys())\n",
    "y = ['A','C','T','G']\n",
    "#[Counter(b) for b in data_dict.values()]"
   ]
  },
  {
   "cell_type": "code",
   "execution_count": null,
   "metadata": {},
   "outputs": [],
   "source": [
    "df = pd.DataFrame(data=data_dict)\n",
    "#for monday, make dict {'seq':  [0,1,2,0], ect.} where value is for y. Next make pd.dataframe from this dict -> next stack data"
   ]
  },
  {
   "cell_type": "code",
   "execution_count": null,
   "metadata": {},
   "outputs": [],
   "source": [
    "#heatmap plot\n",
    "TOOLS = \"hover,pan,reset,wheel_zoom\"\n",
    "\n",
    "p = figure(title='Heatmap of variant occurence in sequence', x_range=x,\n",
    "           y_range=y, x_axis_location='above', tools=TOOLS, toobar_location='below')"
   ]
  },
  {
   "cell_type": "code",
   "execution_count": null,
   "metadata": {
    "collapsed": true
   },
   "outputs": [],
   "source": [
    "#ugly code = mutated_reads_vcf_only"
   ]
  },
  {
   "cell_type": "code",
   "execution_count": null,
   "metadata": {
    "collapsed": true
   },
   "outputs": [],
   "source": [
    "#Extra Notes From Here on out "
   ]
  },
  {
   "cell_type": "code",
   "execution_count": null,
   "metadata": {
    "collapsed": true,
    "scrolled": true
   },
   "outputs": [],
   "source": [
    "file = 'test1.vcf'"
   ]
  },
  {
   "cell_type": "code",
   "execution_count": null,
   "metadata": {
    "collapsed": true
   },
   "outputs": [],
   "source": [
    "dl.vcf_whole_sequence_strip(file)"
   ]
  },
  {
   "cell_type": "code",
   "execution_count": null,
   "metadata": {
    "collapsed": true
   },
   "outputs": [],
   "source": [
    "#amount of bases in vcf file #7590856-7565098=25758"
   ]
  },
  {
   "cell_type": "code",
   "execution_count": null,
   "metadata": {
    "collapsed": true
   },
   "outputs": [],
   "source": [
    "data = dl.data_vcf_file(file)\n",
    "\n",
    "id_ = list(data.keys())[0]\n",
    "variance = data[id_]['variance']\n",
    "backbone = data[id_]['backbone']\n",
    "\n",
    "data_all = dl.vcf_whole_sequence_strip(file)"
   ]
  },
  {
   "cell_type": "code",
   "execution_count": null,
   "metadata": {
    "collapsed": true
   },
   "outputs": [],
   "source": [
    "#backbone_data = dl.mutated_reads_vcf_only(backbone, data_all)\n",
    "#variance_data = dl.mutated_reads_vcf_only(variance, data_all)"
   ]
  },
  {
   "cell_type": "code",
   "execution_count": null,
   "metadata": {
    "collapsed": true
   },
   "outputs": [],
   "source": [
    "#ugly code = mutated_reads_vcf_only -> make scores shorter in 1\n",
    "score_ = []\n",
    "score = []\n",
    "for items in variance:\n",
    "    breakpoint = '\\t'\n",
    "    score_.append(items.split(breakpoint, 9)[9])\n",
    "\n",
    "for i in filter(dl.filter_score, score_):\n",
    "    score.append(i)\n",
    "\n",
    "score2 = []\n",
    "for s in score:\n",
    "    score2.append(s.split(':')[1].split(','))\n",
    "\n",
    "score3 = []\n",
    "for s2 in score:\n",
    "    score3.append(s2.split(':')[2])\n",
    "\n",
    "score4 = []\n",
    "for s3 in score:\n",
    "    score4.append(s3.split(':')[3])\n",
    "\n",
    "score5 = []\n",
    "for s4 in score:\n",
    "    score5.append(s4.split(':')[4])\n",
    "\n",
    "score6 = []\n",
    "for s5 in score:\n",
    "    score6.append(s5.split(':')[2]+':'+s5.split(':')[3]+':'+s5.split(':')[4])\n",
    "\n",
    "    \n",
    "points = 0\n",
    "highmutated = []\n",
    "extended = []\n",
    "for item in score2:\n",
    "    number1 = int(item[0])\n",
    "    number2 = int(item[1])\n",
    "    if number2/(number1+number2) > 0.25:\n",
    "        for i, items in enumerate(data_all):\n",
    "            mutated = ':'+','.join(item[0:2])+':'+score6[points]\n",
    "            print(mutated)\n",
    "            if mutated in items:\n",
    "                highmutated.append(items)\n",
    "                extended.append(data_all[i-3:i+4])\n",
    "    points += 1\n",
    "points = False"
   ]
  },
  {
   "cell_type": "code",
   "execution_count": null,
   "metadata": {
    "collapsed": true
   },
   "outputs": [],
   "source": [
    "#print where score is not found to be 0,99 because reads are missing"
   ]
  },
  {
   "cell_type": "code",
   "execution_count": null,
   "metadata": {
    "collapsed": true
   },
   "outputs": [],
   "source": [
    "#list filter\n",
    "def f(s):\n",
    "    if 'ATC' in s:\n",
    "        return True\n",
    "    return False\n",
    "\n",
    "l = ['EWRWRWERWERWER','RTYRTY','asdasdATCasdasd']\n",
    "\n",
    "for i in filter(f, l):\n",
    "    print(i)"
   ]
  },
  {
   "cell_type": "code",
   "execution_count": null,
   "metadata": {
    "collapsed": true
   },
   "outputs": [],
   "source": [
    "# index\n",
    "for idx, item in enumerate(['a','b','c']):\n",
    "    print(idx,item)"
   ]
  },
  {
   "cell_type": "code",
   "execution_count": null,
   "metadata": {
    "collapsed": true
   },
   "outputs": [],
   "source": [
    "highmutated = []\n",
    "extended = []\n",
    "for i, item in enumerate(score2):\n",
    "    number1 = int(item[0])\n",
    "    number2 = int(item[1])\n",
    "    if number2/(number1+number2) > 0.25:\n",
    "        for items in variance:\n",
    "            mutated = ','.join(item[0:2])\n",
    "            if mutated in items:\n",
    "                highmutated.append(items)\n",
    "                extended.append(score2[i-3:i+3])\n",
    "                \n",
    "highmutated = []\n",
    "for item in score2:\n",
    "    number1 = int(item[0])\n",
    "    number2 = int(item[1])\n",
    "    if number2/(number1+number2) > 0.25:\n",
    "        for items in variance:\n",
    "            mutated = ','.join(item[0:2])\n",
    "            if mutated in items:\n",
    "                highmutated.append(items)"
   ]
  },
  {
   "cell_type": "code",
   "execution_count": null,
   "metadata": {
    "collapsed": true
   },
   "outputs": [],
   "source": [
    "score = []\n",
    "for items in variance:\n",
    "    breakpoint = '\\t'\n",
    "    score.append(items.split(breakpoint, 9)[9])\n",
    "\n",
    "score2 = []\n",
    "for s in score:\n",
    "    score2.append(s.split(':')[1].split(','))\n",
    "\n",
    "highmutated = []\n",
    "extended = []\n",
    "points = 0  \n",
    "for item in score2:\n",
    "    number1 = int(item[0])\n",
    "    number2 = int(item[1])\n",
    "    if number2/(number1+number2) >= 0.25:\n",
    "        for i, items in enumerate(data_all):\n",
    "            mutated = ','.join(item[0:2])+':'+score3[points]\n",
    "            print(mutated)\n",
    "            if mutated in items:\n",
    "                highmutated.append(items)\n",
    "                extended.append(data_all[i-3:i+4])\n",
    "    points += 1\n",
    "points = False\n",
    "\n",
    "score3 = []\n",
    "for s2 in score:\n",
    "    score3.append(s2.split(':')[2])"
   ]
  }
 ],
 "metadata": {
  "kernelspec": {
   "display_name": "Python 3",
   "language": "python",
   "name": "python3"
  },
  "language_info": {
   "codemirror_mode": {
    "name": "ipython",
    "version": 3
   },
   "file_extension": ".py",
   "mimetype": "text/x-python",
   "name": "python",
   "nbconvert_exporter": "python",
   "pygments_lexer": "ipython3",
   "version": "3.6.3"
  }
 },
 "nbformat": 4,
 "nbformat_minor": 2
}
