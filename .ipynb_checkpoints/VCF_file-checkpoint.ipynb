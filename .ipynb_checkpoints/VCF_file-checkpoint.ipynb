{
 "cells": [
  {
   "cell_type": "code",
   "execution_count": 1,
   "metadata": {
    "collapsed": true
   },
   "outputs": [],
   "source": [
    "import douwelib as dl, os, glob, numpy as np, pandas as pd, bokeh.palettes as bp\n",
    "from collections import defaultdict, Counter\n",
    "from bokeh.plotting import figure, output_file, show\n",
    "from bokeh.layouts import gridplot\n",
    "from math import pi\n",
    "from bokeh.models import NumeralTickFormatter, ColumnDataSource, HoverTool, LinearColorMapper, BasicTicker, PrintfTickFormatter, ColorBar"
   ]
  },
  {
   "cell_type": "code",
   "execution_count": 2,
   "metadata": {},
   "outputs": [],
   "source": [
    "path = 'C:/Users/Douwe/Documents/Python/variantcalling/tmp/20171110_1636_HN_TP53_test1_0'\n",
    "\n",
    "data_ = dl.vcf_all_strip(path, 'no', 'no')[1]\n",
    "data = dl.vcf_all_strip(path, 'no', 'no')[3]"
   ]
  },
  {
   "cell_type": "code",
   "execution_count": null,
   "metadata": {
    "collapsed": true
   },
   "outputs": [],
   "source": [
    "#Plot snps\n",
    "dl.plot_vcf_snps(data)"
   ]
  },
  {
   "cell_type": "code",
   "execution_count": null,
   "metadata": {
    "collapsed": true
   },
   "outputs": [],
   "source": [
    "#Heatmap plot\n",
    "data_dict = dl.vcf_heatmap_snps(data_, data)\n",
    "df_ = dl.pd_df_heatmap_sequence(data_dict)\n",
    "dl.heatmap_vcf_files_snps_with_sequence(df_)"
   ]
  },
  {
   "cell_type": "code",
   "execution_count": 3,
   "metadata": {},
   "outputs": [],
   "source": [
    "#Heatmap plot 2\n",
    "df_ = dl.pd_df_heatmap_variance(data)\n",
    "dl.heatmap_vcf_files_snps(df_)"
   ]
  },
  {
   "cell_type": "code",
   "execution_count": null,
   "metadata": {
    "collapsed": true
   },
   "outputs": [],
   "source": [
    "#EXTRA NOTES FROM HERE ON OUT"
   ]
  },
  {
   "cell_type": "code",
   "execution_count": null,
   "metadata": {
    "collapsed": true,
    "scrolled": true
   },
   "outputs": [],
   "source": [
    "file = 'C:/Users/Douwe/Documents/Python/test1.vcf'"
   ]
  },
  {
   "cell_type": "code",
   "execution_count": null,
   "metadata": {
    "collapsed": true
   },
   "outputs": [],
   "source": [
    "#amount of bases in vcf file #7590856-7565098=25758"
   ]
  },
  {
   "cell_type": "code",
   "execution_count": null,
   "metadata": {
    "collapsed": true
   },
   "outputs": [],
   "source": [
    "data = dl.data_vcf_file(file)\n",
    "\n",
    "id_ = list(data.keys())[0]\n",
    "variance = data[id_]['variance']\n",
    "backbone = data[id_]['backbone']\n",
    "\n",
    "data_all = dl.vcf_whole_sequence_strip(file)"
   ]
  },
  {
   "cell_type": "code",
   "execution_count": null,
   "metadata": {
    "collapsed": true
   },
   "outputs": [],
   "source": [
    "backbone_data = dl.mutated_reads_vcf_only(backbone, data_all)\n",
    "variance_data = dl.mutated_reads_vcf_only(variance, data_all)"
   ]
  },
  {
   "cell_type": "code",
   "execution_count": null,
   "metadata": {
    "collapsed": true
   },
   "outputs": [],
   "source": [
    "#ugly code = mutated_reads_vcf_only -> make scores shorter in 1\n",
    "score_ = []\n",
    "score = []\n",
    "for items in variance:\n",
    "    breakpoint = '\\t'\n",
    "    score_.append(items.split(breakpoint, 9)[9])\n",
    "\n",
    "for i in filter(dl.filter_score, score_):\n",
    "    score.append(i)\n",
    "\n",
    "score2 = []\n",
    "for s in score:\n",
    "    score2.append(s.split(':')[1].split(','))\n",
    "\n",
    "score6 = []\n",
    "for s5 in score:\n",
    "    score6.append(s5.split(':')[2]+':'+s5.split(':')[3]+':'+s5.split(':')[4])\n",
    "\n",
    "    \n",
    "points = 0\n",
    "highmutated = []\n",
    "extended = []\n",
    "for item in score2:\n",
    "    if len(item) > 2:\n",
    "        n1 = int(item[0])\n",
    "        n2 = int(item[1])\n",
    "        n3 = int(item[2])\n",
    "        if n2/(n1+n2+n3) > 0.25:\n",
    "            for i, items in enumerate(data_all):\n",
    "                mutated = ':'+','.join(item[0:3])+':'+score6[points]\n",
    "                if mutated in items:\n",
    "                    r_ = items.split(breakpoint, 5)\n",
    "                    r = r_[4][0]\n",
    "                    removed = r_[0]+'\\t'+r_[1]+'\\t'+r_[2]+'\\t'+r_[3]+'\\t'+r+'\\t'+r_[5]\n",
    "                    highmutated.append(removed)\n",
    "                    extended.append(data_all[i-3:i+4])\n",
    "                    continue\n",
    "        if n3/(n1+n2+n3) > 0.25:\n",
    "            for i, items in enumerate(data_all):\n",
    "                mutated = ':'+','.join(item[0:3])+':'+score6[points]\n",
    "                if mutated in items:\n",
    "                    r_ = items.split(breakpoint, 5)\n",
    "                    r = r_[4][0]\n",
    "                    removed = r_[0]+'\\t'+r_[1]+'\\t'+r_[2]+'\\t'+r_[3]+'\\t'+r+'\\t'+r_[5]\n",
    "                    highmutated.append(removed)\n",
    "                    extended.append(data_all[i-3:i+4])\n",
    "    else:\n",
    "        n1 = int(item[0])\n",
    "        n2 = int(item[1])\n",
    "        if n2/(n1+n2) > 0.25:\n",
    "            for i, items in enumerate(data_all):\n",
    "                mutated = ':'+','.join(item[0:2])+':'+score3[points]\n",
    "                if mutated in items:\n",
    "                    highmutated.append(items)\n",
    "                    extended.append(data_all[i-3:i+4])\n",
    "    points += 1\n",
    "    \n",
    "points = False"
   ]
  },
  {
   "cell_type": "code",
   "execution_count": null,
   "metadata": {
    "collapsed": true
   },
   "outputs": [],
   "source": []
  },
  {
   "cell_type": "code",
   "execution_count": null,
   "metadata": {
    "collapsed": true
   },
   "outputs": [],
   "source": [
    "#print where score is not found to be 0,99 because reads are missing"
   ]
  },
  {
   "cell_type": "code",
   "execution_count": null,
   "metadata": {
    "collapsed": true
   },
   "outputs": [],
   "source": [
    "#list filter\n",
    "def f(s):\n",
    "    if 'ATC' in s:\n",
    "        return True\n",
    "    return False\n",
    "\n",
    "l = ['EWRWRWERWERWER','RTYRTY','asdasdATCasdasd']\n",
    "\n",
    "for i in filter(f, l):\n",
    "    print(i)"
   ]
  },
  {
   "cell_type": "code",
   "execution_count": null,
   "metadata": {
    "collapsed": true
   },
   "outputs": [],
   "source": [
    "# index\n",
    "for idx, item in enumerate(['a','b','c']):\n",
    "    print(idx,item)"
   ]
  },
  {
   "cell_type": "code",
   "execution_count": null,
   "metadata": {
    "collapsed": true
   },
   "outputs": [],
   "source": [
    "highmutated = []\n",
    "extended = []\n",
    "for i, item in enumerate(score2):\n",
    "    number1 = int(item[0])\n",
    "    number2 = int(item[1])\n",
    "    if number2/(number1+number2) > 0.25:\n",
    "        for items in variance:\n",
    "            mutated = ','.join(item[0:2])\n",
    "            if mutated in items:\n",
    "                highmutated.append(items)\n",
    "                extended.append(score2[i-3:i+3])\n",
    "                \n",
    "highmutated = []\n",
    "for item in score2:\n",
    "    number1 = int(item[0])\n",
    "    number2 = int(item[1])\n",
    "    if number2/(number1+number2) > 0.25:\n",
    "        for items in variance:\n",
    "            mutated = ','.join(item[0:2])\n",
    "            if mutated in items:\n",
    "                highmutated.append(items)"
   ]
  },
  {
   "cell_type": "code",
   "execution_count": null,
   "metadata": {
    "collapsed": true
   },
   "outputs": [],
   "source": [
    "score = []\n",
    "for items in variance:\n",
    "    breakpoint = '\\t'\n",
    "    score.append(items.split(breakpoint, 9)[9])\n",
    "\n",
    "score2 = []\n",
    "for s in score:\n",
    "    score2.append(s.split(':')[1].split(','))\n",
    "\n",
    "highmutated = []\n",
    "extended = []\n",
    "points = 0  \n",
    "for item in score2:\n",
    "    number1 = int(item[0])\n",
    "    number2 = int(item[1])\n",
    "    if number2/(number1+number2) >= 0.25:\n",
    "        for i, items in enumerate(data_all):\n",
    "            mutated = ','.join(item[0:2])+':'+score3[points]\n",
    "            print(mutated)\n",
    "            if mutated in items:\n",
    "                highmutated.append(items)\n",
    "                extended.append(data_all[i-3:i+4])\n",
    "    points += 1\n",
    "points = False\n",
    "\n",
    "score3 = []\n",
    "for s2 in score:\n",
    "    score3.append(s2.split(':')[2])"
   ]
  },
  {
   "cell_type": "code",
   "execution_count": null,
   "metadata": {
    "collapsed": true
   },
   "outputs": [],
   "source": [
    "#Heatmap\n",
    "x = list(data_dict.keys())\n",
    "d = defaultdict(list)\n",
    "for k in 'ATCG':\n",
    "    d[k]= 0\n",
    "    \n",
    "data_dictionary = []\n",
    "points = 0\n",
    "for i in data_dict.values():\n",
    "    c = Counter(i)\n",
    "    z = {**d, **c}\n",
    "    data_dictionary.append(z)\n",
    "\n",
    "df_ = pd.DataFrame(data=data_dictionary, index=x)\n",
    "df_.columns.name = 'Bases'\n",
    "df_.index.name = 'Sequences'\n",
    "\n",
    "#heatmap plot\n",
    "df = pd.DataFrame(df_.stack(), columns=['scores']).reset_index()\n",
    "\n",
    "bases = list(df_.columns)\n",
    "sequences = list(df_.index)\n",
    "\n",
    "colors = [\"#75968f\", \"#a5bab7\", \"#c9d9d3\", \"#e2e2e2\", \"#dfccce\", \"#ddb7b1\", \"#cc7878\", \"#933b41\", \"#550b1d\"]\n",
    "mapper = LinearColorMapper(palette=colors, low=df.scores.min(), high=df.scores.max())\n",
    "\n",
    "source = ColumnDataSource(df)\n",
    "\n",
    "TOOLS = \"hover,reset,xpan\"\n",
    "\n",
    "p = figure(title='Heatmap of variant occurence in sequence', x_range=sequences,\n",
    "           y_range=list(reversed(bases)), x_axis_location='above', plot_width=900, plot_height=400,\n",
    "           tools=TOOLS, toolbar_location='below')\n",
    "p.grid.grid_line_color = None\n",
    "p.axis.axis_line_color = None\n",
    "p.axis.major_tick_line_color = None\n",
    "p.axis.major_label_text_font_size = \"5pt\"\n",
    "p.axis.major_label_standoff = 0\n",
    "p.xaxis.major_label_orientation = pi / 3\n",
    "\n",
    "\n",
    "p.rect(y=\"Bases\", x=\"Sequences\", width=1, height=1,\n",
    "       source=source,\n",
    "       fill_color={'field': 'scores', 'transform': mapper},\n",
    "       line_color=None)\n",
    "\n",
    "color_bar = ColorBar(color_mapper=mapper, major_label_text_font_size=\"5pt\",\n",
    "                     ticker=BasicTicker(desired_num_ticks=len(colors)),\n",
    "                     label_standoff=6, border_line_color=None, location=(0, 0))\n",
    "p.add_layout(color_bar, 'right')\n",
    "\n",
    "p.select_one(HoverTool).tooltips = [\n",
    "     ('mutation', '@Sequences -> @Bases'),\n",
    "     ('occurence', '@scores'),\n",
    "]\n",
    "\n",
    "show(p)"
   ]
  },
  {
   "cell_type": "code",
   "execution_count": null,
   "metadata": {
    "collapsed": true
   },
   "outputs": [],
   "source": [
    "#Heatmap plot2\n",
    "x = list(dict(dl.highmutated_back_variance(data)).keys())\n",
    "y = list(dict(dl.highmutated_back_variance(data)).values())\n",
    "    \n",
    "data_dict = dict(zip(x, y))\n",
    "df_ = pd.DataFrame(data=data_dict, index = [1])\n",
    "df_.columns.name = 'mutations'\n",
    "df_.index.name = 'index_'\n",
    "\n",
    "df = pd.DataFrame(df_.stack(), columns=['scores']).reset_index()\n",
    "\n",
    "mutations = list(df_.columns)\n",
    "index = list(df_.index)\n",
    "\n",
    "#colors = [\"#75968f\", \"#a5bab7\", \"#c9d9d3\", \"#e2e2e2\", \"#dfccce\", \"#ddb7b1\", \"#cc7878\", \"#933b41\", \"#550b1d\"]\n",
    "colors = bp.all_palettes['Viridis'][11]\n",
    "mapper = LinearColorMapper(palette=colors, low=0, high=df['scores'].sum()/4)\n",
    "\n",
    "source = ColumnDataSource(df)\n",
    "\n",
    "TOOLS = \"hover,reset\"\n",
    "\n",
    "p = figure(title='Variant occurence in sequence', y_range=list(reversed(mutations)), plot_width=300, \n",
    "           x_axis_location='above', plot_height=600, tools=TOOLS, toolbar_location='below')\n",
    "p.grid.grid_line_color = None\n",
    "p.axis.axis_line_color = None\n",
    "p.axis.major_tick_line_color = None\n",
    "p.axis.major_label_text_font_size = \"5pt\"\n",
    "p.axis.major_label_standoff = 0\n",
    "p.xaxis.ticker = []\n",
    "\n",
    "\n",
    "p.rect(y=\"mutations\", x=\"index_\", width=1, height=1,\n",
    "       source=source,\n",
    "       fill_color={'field': 'scores', 'transform': mapper},\n",
    "       line_color=None)\n",
    "\n",
    "color_bar = ColorBar(color_mapper=mapper, major_label_text_font_size=\"5pt\",\n",
    "                     ticker=BasicTicker(desired_num_ticks=1),\n",
    "                     label_standoff=5, border_line_color=None, height=50, location=(10, -250))\n",
    "p.add_layout(color_bar, 'right')\n",
    "\n",
    "p.select_one(HoverTool).tooltips = [\n",
    "     ('mutation', '@mutations'),\n",
    "     ('occurence', '@scores'),\n",
    "]\n",
    "\n",
    "show(p)"
   ]
  }
 ],
 "metadata": {
  "kernelspec": {
   "display_name": "Python 3",
   "language": "python",
   "name": "python3"
  },
  "language_info": {
   "codemirror_mode": {
    "name": "ipython",
    "version": 3
   },
   "file_extension": ".py",
   "mimetype": "text/x-python",
   "name": "python",
   "nbconvert_exporter": "python",
   "pygments_lexer": "ipython3",
   "version": "3.6.3"
  }
 },
 "nbformat": 4,
 "nbformat_minor": 2
}
