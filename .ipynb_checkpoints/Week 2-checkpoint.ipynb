{
 "cells": [
  {
   "cell_type": "code",
   "execution_count": 5,
   "metadata": {},
   "outputs": [],
   "source": [
    "%matplotlib inline\n",
    "from collections import Counter\n",
    "import douwelib as dl\n",
    "import os, glob, statistics, numpy as np, matplotlib.pyplot as plt\n",
    "from matplotlib import gridspec\n",
    "from matplotlib.backends.backend_pdf import PdfPages\n",
    "from collections import defaultdict\n",
    "import matplotlib.patches as mpatches\n",
    "import itertools\n",
    "from bokeh.plotting import figure, output_file, show, ColumnDataSource\n",
    "from bokeh.models import HoverTool, GlyphRenderer, Range1d\n",
    "from bokeh.layouts import gridplot\n",
    "import math\n",
    "from bokeh.io import export_png\n"
   ]
  },
  {
   "cell_type": "code",
   "execution_count": null,
   "metadata": {
    "collapsed": true
   },
   "outputs": [],
   "source": [
    "sequence_file = 'C:/Users/Douwe/Documents/Python/Sequence_files/COG_LAB008_20170217_FNFAF05255_MN17942_sequencing_run_RCA_Pool_2_1D_16122_ch90_read1116_strand.done_fastq'"
   ]
  },
  {
   "cell_type": "code",
   "execution_count": null,
   "metadata": {
    "collapsed": true
   },
   "outputs": [],
   "source": [
    "size = 6\n",
    "overlap = 2\n",
    "letters = 'ACTG'"
   ]
  },
  {
   "cell_type": "code",
   "execution_count": null,
   "metadata": {
    "collapsed": true
   },
   "outputs": [],
   "source": [
    "#Automatic plot \n",
    "X = np.array(dl.get_list_fastq(sequence_file, size, overlap, letters)[0])\n",
    "Y_h = dl.get_list_fastq(sequence_file, size, overlap, letters)[1]\n",
    "Y_m = dl.get_list_fastq(sequence_file, size, overlap, letters)[2]\n",
    "Y_l = np.array(dl.get_list_fastq(sequence_file, size, overlap, letters)[3])\n",
    "dl.plot_bases_high_medium_low(X, Y_h, Y_m, Y_l, 1000, 10)"
   ]
  },
  {
   "cell_type": "code",
   "execution_count": null,
   "metadata": {
    "collapsed": true
   },
   "outputs": [],
   "source": [
    "#What is inside automatic function\n",
    "data = dl.parse_fasta_file_error(sequence_file)          #reads sequence_file -> makes dictonairy with key = id and value = bases and scores\n",
    "#print(data)\n",
    "                                                         \n",
    "id_ = list(data.keys())[0]                               #makes name id_ from key\n",
    "error_rate = dl.convert_qualityscore (data[id_]['score']) #converts quality score from symboles to values out of dict\n",
    "\n",
    "nucleotide_string = (data[id_]['sequence'])\n",
    "nucleotides_list = [c for c in (data[id_]['sequence'])]  #individualize nucleotides into list out of dict\n",
    "X = np.array(nucleotides_list)                           #array for nucleotides and error rate\n",
    "Y = np.array(error_rate)                                 "
   ]
  },
  {
   "cell_type": "code",
   "execution_count": null,
   "metadata": {
    "collapsed": true
   },
   "outputs": [],
   "source": [
    "Y"
   ]
  },
  {
   "cell_type": "code",
   "execution_count": null,
   "metadata": {
    "collapsed": true
   },
   "outputs": [],
   "source": [
    "scoremean_dict = dl.dict_scoremean_bases(nucleotide_string, error_rate, size, overlap)\n",
    "\n",
    "#Now for creating plot with High, Medium and Low\n",
    "plot_data_h = dl.dict_of_allbases_vs_High_Medium_Low(4, 'High', scoremean_dict, letters)\n",
    "plot_data_m = dl.dict_of_allbases_vs_High_Medium_Low(4, 'Medium', scoremean_dict, letters)\n",
    "plot_data_l = dl.dict_of_allbases_vs_High_Medium_Low(4, 'Low', scoremean_dict, letters)\n",
    "\n",
    "X = np.array(list(plot_data_h.keys()))\n",
    "Y_h = np.array(list(plot_data_h.values()))\n",
    "Y_m = np.array(list(plot_data_m.values()))\n",
    "Y_l = np.array(list(plot_data_l.values()))\n",
    "\n",
    "plot_data_h.values()"
   ]
  },
  {
   "cell_type": "code",
   "execution_count": null,
   "metadata": {
    "collapsed": true
   },
   "outputs": [],
   "source": [
    "#For all the files"
   ]
  },
  {
   "cell_type": "code",
   "execution_count": null,
   "metadata": {
    "collapsed": true
   },
   "outputs": [],
   "source": [
    "os.chdir('C:/Users/Douwe/Documents/Python/Sequence_files')\n",
    "all_y_h = [] \n",
    "all_y_m = []\n",
    "all_y_l = []\n",
    "size = 5\n",
    "overlap = 2\n",
    "letters = 'ACTG'\n",
    "\n",
    "for file in glob.iglob('*.done_fastq'):\n",
    "    X = dl.get_list_fastq(file, size, overlap, letters)[0]\n",
    "    y_h = (dl.get_list_fastq(file, size, overlap, letters)[1])\n",
    "    y_m = (dl.get_list_fastq(file, size, overlap, letters)[2])\n",
    "    y_l = (dl.get_list_fastq(file, size, overlap, letters)[3])\n",
    "    all_y_h.append(y_h)\n",
    "    all_y_m.append(y_m)\n",
    "    all_y_l.append(y_l)\n",
    "    \n",
    "nc_all_y_h = [[i[n] for i in all_y_h] for n in range(len(all_y_h[0]))]\n",
    "c_all_y_h = list(sum(x) for x in nc_all_y_h)\n",
    "nc_all_y_m = [[i[n] for i in all_y_m] for n in range(len(all_y_m[0]))]\n",
    "c_all_y_m = list(sum(x) for x in nc_all_y_m)\n",
    "nc_all_y_l = [[i[n] for i in all_y_l] for n in range(len(all_y_l[0]))]\n",
    "c_all_y_l = list(sum(x) for x in nc_all_y_l)\n",
    "\n",
    "#dl.plot_bases_high_medium_low(X, c_all_y_h, c_all_y_m, c_all_y_l, 1000, 500)\n",
    "\n",
    "#get dict with many high error rates and thus low quality\n",
    "all_combinations = []\n",
    "for i in itertools.product('ACTG', repeat = size):\n",
    "    size_ = '{}'*size\n",
    "    all_combinations.append(size_.format(*i))\n",
    "    \n",
    "all_high_scores = dict(zip(all_combinations, c_all_y_h))\n",
    "d = dict((k, v) for k, v in all_high_scores.items() if v >= 60)\n"
   ]
  },
  {
   "cell_type": "code",
   "execution_count": null,
   "metadata": {
    "collapsed": true
   },
   "outputs": [],
   "source": []
  },
  {
   "cell_type": "code",
   "execution_count": null,
   "metadata": {
    "collapsed": true
   },
   "outputs": [],
   "source": [
    "y_nan1 = dl.zero_to_nan(c_all_y_h)\n",
    "y_nan2 = dl.zero_to_nan(c_all_y_m)\n",
    "y_nan3 = dl.zero_to_nan(c_all_y_l)"
   ]
  },
  {
   "cell_type": "code",
   "execution_count": null,
   "metadata": {
    "collapsed": true
   },
   "outputs": [],
   "source": [
    "path = 'C:/Users/Douwe/Documents/Python/Sequence_files'\n",
    "dl.get_list_hml_scores_fastq(path, size, overlap, letters)[1]"
   ]
  },
  {
   "cell_type": "code",
   "execution_count": null,
   "metadata": {
    "collapsed": true
   },
   "outputs": [],
   "source": [
    "#Plot in Bokeh\n",
    "bases = x\n",
    "\n",
    "#percentage\n",
    "sum_scores = [x + y + z for x, y, z in zip(y_nan1, y_nan2, y_nan3)]\n",
    "per_h_of_all = [x / y * 100 for x, y in zip(y_nan1, sum_scores)]\n",
    "per_m_of_all = [x / y * 100 for x, y in zip(y_nan2, sum_scores)]\n",
    "per_l_of_all = [x / y * 100 for x, y in zip(y_nan3, sum_scores)]\n",
    "\n",
    "hover = HoverTool(tooltips=[(\"Bases\", \"@x\"), (\"High Scores\", \"@y\"\"%\")], mode='vline')\n",
    "\n",
    "#plotting\n",
    "p = figure(x_range=bases, y_axis_label='How many found bases in category%', tools=[hover, 'xwheel_zoom', 'xpan'])\n",
    "p.title.text = \"High, Medium, Low quality score per sequence\"\n",
    "p.xaxis.ticker = []\n",
    "p.y_range = Range1d(0, 100)\n",
    "p.xgrid.grid_line_color = None\n",
    "p.ygrid.grid_line_color = None\n",
    "\n",
    "#data\n",
    "p.circle(x=bases, y=per_h_of_all, size=5, alpha=1, muted_alpha=0.4, color='red', muted_color='red', legend='High scores')\n",
    "p.circle(x=bases, y=per_m_of_all, size=5, alpha=1, muted_alpha=0.4, color='blue', muted_color='blue', legend='Medium scores')\n",
    "p.circle(x=bases, y=per_l_of_all, size=5, alpha=1, muted_alpha=0.4, color='purple', muted_color='purple', legend='Low scores')\n",
    "\n",
    "p.legend.location = \"top_left\"\n",
    "p.legend.click_policy=\"mute\"\n",
    "\n",
    "# output to static HTML file\n",
    "#output_file(\"scatterplot.html\", title=\"High, Medium, Low quality score per sequence\")\n",
    "\n",
    "show(p)"
   ]
  },
  {
   "cell_type": "code",
   "execution_count": null,
   "metadata": {
    "collapsed": true
   },
   "outputs": [],
   "source": [
    "dl.plot_bases_hml_in_bokeh('D', X, y_nan1, y_nan2, y_nan3)"
   ]
  },
  {
   "cell_type": "code",
   "execution_count": null,
   "metadata": {
    "collapsed": true,
    "scrolled": true
   },
   "outputs": [],
   "source": [
    "#plotting with clustering\n",
    "from sklearn.cluster import KMeans\n",
    "\n",
    "x_plot = np.column_stack((per_l_of_all, per_h_of_all))\n",
    "kmeans= KMeans(n_clusters=3)\n",
    "kmeans.fit(x_plot)\n",
    "y_kmeans = kmeans.predict(x_plot)\n",
    "\n",
    "plt.figure(figsize=(24, 9))\n",
    "plt.scatter(x_plot[:, 0], x_plot[:, 1], c=y_kmeans, s=50, cmap='viridis')\n",
    "centers = kmeans.cluster_centers_\n",
    "plt.scatter(centers[:, 0], centers[:, 1], c='black', s=200, alpha=0.1);\n",
    "plt.ylim(0, 50)\n",
    "plt.xlim(0, 100)\n",
    "plt.xlabel('% in low score')\n",
    "plt.ylabel('% in high score')\n",
    "plt.title('MiniBatchKMeans')\n",
    "plt.show()"
   ]
  },
  {
   "cell_type": "code",
   "execution_count": null,
   "metadata": {},
   "outputs": [],
   "source": [
    "\n",
    "all_combinations = dl.list_with_all_combinations(letters, size)\n",
    "\n",
    "per_all_h_scores = dict(zip(all_combinations, per_h_of_all))"
   ]
  },
  {
   "cell_type": "code",
   "execution_count": null,
   "metadata": {},
   "outputs": [],
   "source": [
    "per_all_h_scores \n",
    "d = dict((k, v) for k, v in per_all_h_scores.items() if v >= 20)\n",
    "print(d)"
   ]
  },
  {
   "cell_type": "code",
   "execution_count": null,
   "metadata": {
    "collapsed": true
   },
   "outputs": [],
   "source": [
    "#scores as values\n",
    "os.chdir('C:/Users/Douwe/Documents/Python/Sequence_files')\n",
    "dict_x = dict.fromkeys(dl.list_with_all_combinations(letters, size))\n",
    "\n",
    "for file in glob.iglob('*.done_fastq'):\n",
    "    data = dl.parse_fasta_file_error(file)\n",
    "    id_ = list(data.keys())[0]\n",
    "    error_rate = (dl.convert_qualityscore(data[id_]['score']))\n",
    "    nucleotide_string = ((data[id_]['sequence']))\n",
    "    n_split = dl.split_overlap(nucleotide_string, size, overlap)\n",
    "    listed_nucleotides = []\n",
    "    for l in n_split:\n",
    "        if len(l) >= size:\n",
    "            listed_nucleotides.append(l)\n",
    "        else:\n",
    "            #print('string without {} bases were skipped'.format(size))\n",
    "            continue\n",
    "    error_rate_split = dl.mean_calc_list(list(dl.split_overlap(error_rate, size, overlap)), size)\n",
    "    dict_z = dict(zip(listed_nucleotides, error_rate_split))\n",
    "    dl.dict_values_to_other_dict(dict_x, dict_z)\n",
    "\n",
    "for k, v in dict_x.items():\n",
    "    if v == None:\n",
    "        continue\n",
    "    else:\n",
    "        dict_x[k] = statistics.mean(v)"
   ]
  },
  {
   "cell_type": "code",
   "execution_count": null,
   "metadata": {
    "collapsed": true
   },
   "outputs": [],
   "source": [
    "path = 'C:/Users/Douwe/Documents/Python/Sequence_files'\n",
    "\n",
    "dict_x = dl.get_dict_mean_of_seq_fastq(path, size, overlap, letters)"
   ]
  },
  {
   "cell_type": "code",
   "execution_count": null,
   "metadata": {
    "collapsed": true
   },
   "outputs": [],
   "source": [
    "from sklearn.cluster import KMeans\n",
    "\n",
    "keys = []\n",
    "values = []\n",
    "for key, value in dict_x.items():\n",
    "    keys.append(key)\n",
    "    values.append(value)\n",
    "\n",
    "x_plot = np.column_stack((keys, values))\n",
    "\n",
    "#Plot in Bokeh\n",
    "ylim = len(values)\n",
    "figsize = 500\n",
    "\n",
    "hover = HoverTool(tooltips=[(\"Bases\", \"@x\"), (\"Qualityscore\", \"@y\")], mode='vline')\n",
    "\n",
    "#plotting\n",
    "p = figure(x_range=keys, y_axis_label='QaulityScore', tools=[hover, 'xwheel_zoom', 'xpan'])\n",
    "p.title.text = \"Quality Score per base combinations\"\n",
    "p.xgrid.grid_line_color = None\n",
    "p.ygrid.grid_line_color = None\n",
    "\n",
    "#data\n",
    "p.circle(x = keys, y= values, size=5, alpha=1, color='red', legend='QualityScore')\n",
    "\n",
    "p.legend.location = \"top_left\"\n",
    "\n",
    "show(p)"
   ]
  },
  {
   "cell_type": "code",
   "execution_count": 2,
   "metadata": {},
   "outputs": [],
   "source": [
    "#for documentation. want 6 plots. 3 on top with size differences and overlap. and 3 on bottum with same parameters but with\n",
    "#with last plot. so 4:1, 5:2, 6:3 high/medium/low and 4:1, 5:2, 6:3 normal scores\n",
    "#Put in dl.get_list_hml_scores_fastq(path, size, overlap, letters)\n",
    "\n",
    "path = 'C:/Users/Douwe/Documents/Python/Sequence_files'\n",
    "letters = 'ACTG'\n",
    "\n",
    "#data\n",
    "x1 = dl.get_list_hml_scores_fastq(path, 4, 1, letters)[0]\n",
    "x2 = dl.get_list_hml_scores_fastq(path, 5, 2, letters)[0]\n",
    "x3 = dl.get_list_hml_scores_fastq(path, 6, 3, letters)[0]\n",
    "y_high1 = dl.get_list_hml_scores_fastq(path, 4, 1, letters)[1]\n",
    "y_high2 = dl.get_list_hml_scores_fastq(path, 5, 2, letters)[1]\n",
    "y_high3 = dl.get_list_hml_scores_fastq(path, 6, 3, letters)[1]\n",
    "y_medium1 = dl.get_list_hml_scores_fastq(path, 4, 1, letters)[2]\n",
    "y_medium2 = dl.get_list_hml_scores_fastq(path, 5, 2, letters)[2]\n",
    "y_medium3 = dl.get_list_hml_scores_fastq(path, 6, 3, letters)[2]\n",
    "y_low1 = dl.get_list_hml_scores_fastq(path, 4, 1, letters)[3]\n",
    "y_low2 = dl.get_list_hml_scores_fastq(path, 5, 2, letters)[3]\n",
    "y_low3 = dl.get_list_hml_scores_fastq(path, 6, 3, letters)[3]\n",
    "\n",
    "#actual plot\n",
    "A = dl.plot_raw_values_bokeh('A', dl.get_dict_mean_of_seq_fastq(path, 4, 1, letters))\n",
    "B = dl.plot_raw_values_bokeh('B', dl.get_dict_mean_of_seq_fastq(path, 5, 2, letters))\n",
    "C = dl.plot_raw_values_bokeh('C', dl.get_dict_mean_of_seq_fastq(path, 6, 2, letters))\n",
    "D = dl.plot_bases_hml_in_bokeh('D', x1, y_high1, y_medium1, y_low1)\n",
    "E = dl.plot_bases_hml_in_bokeh('E', x2, y_high2, y_medium2, y_low2)\n",
    "F = dl.plot_bases_hml_in_bokeh('F', x3, y_high3, y_medium3, y_low3)"
   ]
  },
  {
   "cell_type": "code",
   "execution_count": 11,
   "metadata": {},
   "outputs": [
    {
     "ename": "RuntimeError",
     "evalue": "To use bokeh.io.export_png you need selenium (\"conda install -c bokeh selenium\" or \"pip install selenium\")",
     "output_type": "error",
     "traceback": [
      "\u001b[1;31m---------------------------------------------------------------------------\u001b[0m",
      "\u001b[1;31mModuleNotFoundError\u001b[0m                       Traceback (most recent call last)",
      "\u001b[1;32m~\\Anaconda3.2.0\\lib\\site-packages\\bokeh\\util\\dependencies.py\u001b[0m in \u001b[0;36mimport_required\u001b[1;34m(mod_name, error_msg)\u001b[0m\n\u001b[0;32m     49\u001b[0m     \u001b[1;32mtry\u001b[0m\u001b[1;33m:\u001b[0m\u001b[1;33m\u001b[0m\u001b[0m\n\u001b[1;32m---> 50\u001b[1;33m         \u001b[1;32mreturn\u001b[0m \u001b[0mimport_module\u001b[0m\u001b[1;33m(\u001b[0m\u001b[0mmod_name\u001b[0m\u001b[1;33m)\u001b[0m\u001b[1;33m\u001b[0m\u001b[0m\n\u001b[0m\u001b[0;32m     51\u001b[0m     \u001b[1;32mexcept\u001b[0m \u001b[0mImportError\u001b[0m\u001b[1;33m:\u001b[0m\u001b[1;33m\u001b[0m\u001b[0m\n",
      "\u001b[1;32m~\\Anaconda3.2.0\\lib\\importlib\\__init__.py\u001b[0m in \u001b[0;36mimport_module\u001b[1;34m(name, package)\u001b[0m\n\u001b[0;32m    125\u001b[0m             \u001b[0mlevel\u001b[0m \u001b[1;33m+=\u001b[0m \u001b[1;36m1\u001b[0m\u001b[1;33m\u001b[0m\u001b[0m\n\u001b[1;32m--> 126\u001b[1;33m     \u001b[1;32mreturn\u001b[0m \u001b[0m_bootstrap\u001b[0m\u001b[1;33m.\u001b[0m\u001b[0m_gcd_import\u001b[0m\u001b[1;33m(\u001b[0m\u001b[0mname\u001b[0m\u001b[1;33m[\u001b[0m\u001b[0mlevel\u001b[0m\u001b[1;33m:\u001b[0m\u001b[1;33m]\u001b[0m\u001b[1;33m,\u001b[0m \u001b[0mpackage\u001b[0m\u001b[1;33m,\u001b[0m \u001b[0mlevel\u001b[0m\u001b[1;33m)\u001b[0m\u001b[1;33m\u001b[0m\u001b[0m\n\u001b[0m\u001b[0;32m    127\u001b[0m \u001b[1;33m\u001b[0m\u001b[0m\n",
      "\u001b[1;32m~\\Anaconda3.2.0\\lib\\importlib\\_bootstrap.py\u001b[0m in \u001b[0;36m_gcd_import\u001b[1;34m(name, package, level)\u001b[0m\n",
      "\u001b[1;32m~\\Anaconda3.2.0\\lib\\importlib\\_bootstrap.py\u001b[0m in \u001b[0;36m_find_and_load\u001b[1;34m(name, import_)\u001b[0m\n",
      "\u001b[1;32m~\\Anaconda3.2.0\\lib\\importlib\\_bootstrap.py\u001b[0m in \u001b[0;36m_find_and_load_unlocked\u001b[1;34m(name, import_)\u001b[0m\n",
      "\u001b[1;32m~\\Anaconda3.2.0\\lib\\importlib\\_bootstrap.py\u001b[0m in \u001b[0;36m_call_with_frames_removed\u001b[1;34m(f, *args, **kwds)\u001b[0m\n",
      "\u001b[1;32m~\\Anaconda3.2.0\\lib\\importlib\\_bootstrap.py\u001b[0m in \u001b[0;36m_gcd_import\u001b[1;34m(name, package, level)\u001b[0m\n",
      "\u001b[1;32m~\\Anaconda3.2.0\\lib\\importlib\\_bootstrap.py\u001b[0m in \u001b[0;36m_find_and_load\u001b[1;34m(name, import_)\u001b[0m\n",
      "\u001b[1;32m~\\Anaconda3.2.0\\lib\\importlib\\_bootstrap.py\u001b[0m in \u001b[0;36m_find_and_load_unlocked\u001b[1;34m(name, import_)\u001b[0m\n",
      "\u001b[1;31mModuleNotFoundError\u001b[0m: No module named 'selenium'",
      "\nDuring handling of the above exception, another exception occurred:\n",
      "\u001b[1;31mRuntimeError\u001b[0m                              Traceback (most recent call last)",
      "\u001b[1;32m<ipython-input-11-6fc58d76de67>\u001b[0m in \u001b[0;36m<module>\u001b[1;34m()\u001b[0m\n\u001b[0;32m      1\u001b[0m \u001b[0mgrid\u001b[0m \u001b[1;33m=\u001b[0m \u001b[0mgridplot\u001b[0m\u001b[1;33m(\u001b[0m\u001b[1;33m[\u001b[0m\u001b[1;33m[\u001b[0m\u001b[0mA\u001b[0m\u001b[1;33m,\u001b[0m \u001b[0mB\u001b[0m\u001b[1;33m,\u001b[0m \u001b[0mC\u001b[0m\u001b[1;33m]\u001b[0m\u001b[1;33m,\u001b[0m \u001b[1;33m[\u001b[0m\u001b[0mD\u001b[0m\u001b[1;33m,\u001b[0m \u001b[0mE\u001b[0m\u001b[1;33m,\u001b[0m \u001b[0mF\u001b[0m\u001b[1;33m]\u001b[0m\u001b[1;33m]\u001b[0m\u001b[1;33m)\u001b[0m\u001b[1;33m\u001b[0m\u001b[0m\n\u001b[0;32m      2\u001b[0m \u001b[1;33m\u001b[0m\u001b[0m\n\u001b[1;32m----> 3\u001b[1;33m \u001b[0mexport_png\u001b[0m\u001b[1;33m(\u001b[0m\u001b[0mgrid\u001b[0m\u001b[1;33m,\u001b[0m \u001b[0mfilename\u001b[0m\u001b[1;33m=\u001b[0m\u001b[1;34m\"plot.png\"\u001b[0m\u001b[1;33m)\u001b[0m\u001b[1;33m\u001b[0m\u001b[0m\n\u001b[0m\u001b[0;32m      4\u001b[0m \u001b[1;33m\u001b[0m\u001b[0m\n\u001b[0;32m      5\u001b[0m \u001b[1;31m#output_file(\"gridplot.png\")\u001b[0m\u001b[1;33m\u001b[0m\u001b[1;33m\u001b[0m\u001b[0m\n",
      "\u001b[1;32m~\\Anaconda3.2.0\\lib\\site-packages\\bokeh\\util\\api.py\u001b[0m in \u001b[0;36mwrapper\u001b[1;34m(*args, **kw)\u001b[0m\n\u001b[0;32m    188\u001b[0m         \u001b[1;33m@\u001b[0m\u001b[0mwraps\u001b[0m\u001b[1;33m(\u001b[0m\u001b[0mobj\u001b[0m\u001b[1;33m)\u001b[0m\u001b[1;33m\u001b[0m\u001b[0m\n\u001b[0;32m    189\u001b[0m         \u001b[1;32mdef\u001b[0m \u001b[0mwrapper\u001b[0m\u001b[1;33m(\u001b[0m\u001b[1;33m*\u001b[0m\u001b[0margs\u001b[0m\u001b[1;33m,\u001b[0m \u001b[1;33m**\u001b[0m\u001b[0mkw\u001b[0m\u001b[1;33m)\u001b[0m\u001b[1;33m:\u001b[0m\u001b[1;33m\u001b[0m\u001b[0m\n\u001b[1;32m--> 190\u001b[1;33m             \u001b[1;32mreturn\u001b[0m \u001b[0mobj\u001b[0m\u001b[1;33m(\u001b[0m\u001b[1;33m*\u001b[0m\u001b[0margs\u001b[0m\u001b[1;33m,\u001b[0m \u001b[1;33m**\u001b[0m\u001b[0mkw\u001b[0m\u001b[1;33m)\u001b[0m\u001b[1;33m\u001b[0m\u001b[0m\n\u001b[0m\u001b[0;32m    191\u001b[0m \u001b[1;33m\u001b[0m\u001b[0m\n\u001b[0;32m    192\u001b[0m         \u001b[0mwrapper\u001b[0m\u001b[1;33m.\u001b[0m\u001b[0m__bkversion__\u001b[0m \u001b[1;33m=\u001b[0m \u001b[0mversion\u001b[0m\u001b[1;33m\u001b[0m\u001b[0m\n",
      "\u001b[1;32m~\\Anaconda3.2.0\\lib\\site-packages\\bokeh\\io\\export.py\u001b[0m in \u001b[0;36mexport_png\u001b[1;34m(obj, filename, height, width, webdriver)\u001b[0m\n\u001b[0;32m     81\u001b[0m     '''\n\u001b[0;32m     82\u001b[0m \u001b[1;33m\u001b[0m\u001b[0m\n\u001b[1;32m---> 83\u001b[1;33m     \u001b[0mimage\u001b[0m \u001b[1;33m=\u001b[0m \u001b[0mget_screenshot_as_png\u001b[0m\u001b[1;33m(\u001b[0m\u001b[0mobj\u001b[0m\u001b[1;33m,\u001b[0m \u001b[0mheight\u001b[0m\u001b[1;33m=\u001b[0m\u001b[0mheight\u001b[0m\u001b[1;33m,\u001b[0m \u001b[0mwidth\u001b[0m\u001b[1;33m=\u001b[0m\u001b[0mwidth\u001b[0m\u001b[1;33m,\u001b[0m \u001b[0mdriver\u001b[0m\u001b[1;33m=\u001b[0m\u001b[0mwebdriver\u001b[0m\u001b[1;33m)\u001b[0m\u001b[1;33m\u001b[0m\u001b[0m\n\u001b[0m\u001b[0;32m     84\u001b[0m \u001b[1;33m\u001b[0m\u001b[0m\n\u001b[0;32m     85\u001b[0m     \u001b[1;32mif\u001b[0m \u001b[0mfilename\u001b[0m \u001b[1;32mis\u001b[0m \u001b[1;32mNone\u001b[0m\u001b[1;33m:\u001b[0m\u001b[1;33m\u001b[0m\u001b[0m\n",
      "\u001b[1;32m~\\Anaconda3.2.0\\lib\\site-packages\\bokeh\\util\\api.py\u001b[0m in \u001b[0;36mwrapper\u001b[1;34m(*args, **kw)\u001b[0m\n\u001b[0;32m    188\u001b[0m         \u001b[1;33m@\u001b[0m\u001b[0mwraps\u001b[0m\u001b[1;33m(\u001b[0m\u001b[0mobj\u001b[0m\u001b[1;33m)\u001b[0m\u001b[1;33m\u001b[0m\u001b[0m\n\u001b[0;32m    189\u001b[0m         \u001b[1;32mdef\u001b[0m \u001b[0mwrapper\u001b[0m\u001b[1;33m(\u001b[0m\u001b[1;33m*\u001b[0m\u001b[0margs\u001b[0m\u001b[1;33m,\u001b[0m \u001b[1;33m**\u001b[0m\u001b[0mkw\u001b[0m\u001b[1;33m)\u001b[0m\u001b[1;33m:\u001b[0m\u001b[1;33m\u001b[0m\u001b[0m\n\u001b[1;32m--> 190\u001b[1;33m             \u001b[1;32mreturn\u001b[0m \u001b[0mobj\u001b[0m\u001b[1;33m(\u001b[0m\u001b[1;33m*\u001b[0m\u001b[0margs\u001b[0m\u001b[1;33m,\u001b[0m \u001b[1;33m**\u001b[0m\u001b[0mkw\u001b[0m\u001b[1;33m)\u001b[0m\u001b[1;33m\u001b[0m\u001b[0m\n\u001b[0m\u001b[0;32m    191\u001b[0m \u001b[1;33m\u001b[0m\u001b[0m\n\u001b[0;32m    192\u001b[0m         \u001b[0mwrapper\u001b[0m\u001b[1;33m.\u001b[0m\u001b[0m__bkversion__\u001b[0m \u001b[1;33m=\u001b[0m \u001b[0mversion\u001b[0m\u001b[1;33m\u001b[0m\u001b[0m\n",
      "\u001b[1;32m~\\Anaconda3.2.0\\lib\\site-packages\\bokeh\\io\\export.py\u001b[0m in \u001b[0;36mget_screenshot_as_png\u001b[1;34m(obj, driver, **kwargs)\u001b[0m\n\u001b[0;32m    159\u001b[0m     webdriver = import_required('selenium.webdriver',\n\u001b[0;32m    160\u001b[0m                                 \u001b[1;34m'To use bokeh.io.export_png you need selenium '\u001b[0m \u001b[1;33m+\u001b[0m\u001b[1;33m\u001b[0m\u001b[0m\n\u001b[1;32m--> 161\u001b[1;33m                                 '(\"conda install -c bokeh selenium\" or \"pip install selenium\")')\n\u001b[0m\u001b[0;32m    162\u001b[0m \u001b[1;33m\u001b[0m\u001b[0m\n\u001b[0;32m    163\u001b[0m     Image = import_required('PIL.Image',\n",
      "\u001b[1;32m~\\Anaconda3.2.0\\lib\\site-packages\\bokeh\\util\\dependencies.py\u001b[0m in \u001b[0;36mimport_required\u001b[1;34m(mod_name, error_msg)\u001b[0m\n\u001b[0;32m     50\u001b[0m         \u001b[1;32mreturn\u001b[0m \u001b[0mimport_module\u001b[0m\u001b[1;33m(\u001b[0m\u001b[0mmod_name\u001b[0m\u001b[1;33m)\u001b[0m\u001b[1;33m\u001b[0m\u001b[0m\n\u001b[0;32m     51\u001b[0m     \u001b[1;32mexcept\u001b[0m \u001b[0mImportError\u001b[0m\u001b[1;33m:\u001b[0m\u001b[1;33m\u001b[0m\u001b[0m\n\u001b[1;32m---> 52\u001b[1;33m         \u001b[1;32mraise\u001b[0m \u001b[0mRuntimeError\u001b[0m\u001b[1;33m(\u001b[0m\u001b[0merror_msg\u001b[0m\u001b[1;33m)\u001b[0m\u001b[1;33m\u001b[0m\u001b[0m\n\u001b[0m\u001b[0;32m     53\u001b[0m \u001b[1;33m\u001b[0m\u001b[0m\n\u001b[0;32m     54\u001b[0m \u001b[1;32mdef\u001b[0m \u001b[0mdetect_phantomjs\u001b[0m\u001b[1;33m(\u001b[0m\u001b[1;33m)\u001b[0m\u001b[1;33m:\u001b[0m\u001b[1;33m\u001b[0m\u001b[0m\n",
      "\u001b[1;31mRuntimeError\u001b[0m: To use bokeh.io.export_png you need selenium (\"conda install -c bokeh selenium\" or \"pip install selenium\")"
     ]
    }
   ],
   "source": [
    "grid = gridplot([[A, B, C], [D, E, F]])\n",
    "\n",
    "export_png(grid, filename=\"plot.png\")\n",
    "\n",
    "#output_file(\"gridplot.png\")\n",
    "#output_file(\"gridplot.html\")\n",
    "#output to static HTML file\n",
    "#output_file(\"gridplot.html\", title=\"all data\")"
   ]
  },
  {
   "cell_type": "code",
   "execution_count": 9,
   "metadata": {},
   "outputs": [
    {
     "name": "stderr",
     "output_type": "stream",
     "text": [
      "W-1004 (BOTH_CHILD_AND_ROOT): Models should not be a document root if they are in a layout box: Figure(id='e71797cb-70dd-4b1f-8cc4-829b1f633cf8', ...), Figure(id='02487917-63a0-498a-9165-fdb1a81ac1df', ...), Figure(id='8536c178-2f4b-4561-9407-219dcfbb3493', ...)\n"
     ]
    }
   ],
   "source": [
    "show(grid)"
   ]
  },
  {
   "cell_type": "code",
   "execution_count": null,
   "metadata": {
    "collapsed": true
   },
   "outputs": [],
   "source": [
    "q1 = dl.get_dict_mean_of_seq_fastq(path, 4, 1, letters)\n",
    "q2 = dl.get_dict_mean_of_seq_fastq(path, 5, 2, letters)\n",
    "q3 = dl.get_dict_mean_of_seq_fastq(path, 6, 2, letters)"
   ]
  },
  {
   "cell_type": "code",
   "execution_count": null,
   "metadata": {},
   "outputs": [],
   "source": [
    "sorted(q3.items(), key=lambda x:x[1])"
   ]
  },
  {
   "cell_type": "code",
   "execution_count": null,
   "metadata": {
    "collapsed": true
   },
   "outputs": [],
   "source": [
    "\n",
    "all_combinations = dl.list_with_all_combinations(letters, size)\n",
    "\n",
    "per_all_h_scores = dict(zip(all_combinations, per_h_of_all))\n",
    "\n",
    "per_all_h_scores \n",
    "d = dict((k, v) for k, v in per_all_h_scores.items() if v >= 20)\n",
    "print(d)"
   ]
  },
  {
   "cell_type": "code",
   "execution_count": null,
   "metadata": {
    "collapsed": true
   },
   "outputs": [],
   "source": [
    "size = 6\n",
    "\n",
    "sum_scores = [x + y + z for x, y, z in zip(y_high3, y_medium3, y_low3)]\n",
    "per_h_of_all = [x / y * 100 for x, y in zip(y_high3, sum_scores)]\n",
    "all_combinations = dl.list_with_all_combinations(letters, size)\n",
    "z = dict(zip(all_combinations, per_h_of_all))\n"
   ]
  },
  {
   "cell_type": "code",
   "execution_count": null,
   "metadata": {},
   "outputs": [],
   "source": [
    "sorted(z.items(), key=lambda x:x[1])"
   ]
  },
  {
   "cell_type": "code",
   "execution_count": null,
   "metadata": {
    "collapsed": true
   },
   "outputs": [],
   "source": [
    "t = list(z.values())\n",
    "#q4 = [0 if t is NaN else t for t in z.values()]\n",
    "\n",
    "q4 = [0 if math.isnan(t) else t for t in z.values()]"
   ]
  },
  {
   "cell_type": "code",
   "execution_count": null,
   "metadata": {
    "collapsed": true
   },
   "outputs": [],
   "source": [
    "t2 = list(z.keys())"
   ]
  },
  {
   "cell_type": "code",
   "execution_count": null,
   "metadata": {
    "collapsed": true
   },
   "outputs": [],
   "source": [
    "dict_z = dict(zip(t2, q4))"
   ]
  },
  {
   "cell_type": "code",
   "execution_count": null,
   "metadata": {},
   "outputs": [],
   "source": [
    "dict_z"
   ]
  },
  {
   "cell_type": "code",
   "execution_count": null,
   "metadata": {},
   "outputs": [],
   "source": [
    "sorted(dict_z.items(), key=lambda x:x[1])[4091:4097]"
   ]
  },
  {
   "cell_type": "code",
   "execution_count": null,
   "metadata": {},
   "outputs": [],
   "source": [
    "len(dict_z)"
   ]
  },
  {
   "cell_type": "code",
   "execution_count": null,
   "metadata": {
    "collapsed": true
   },
   "outputs": [],
   "source": []
  }
 ],
 "metadata": {
  "kernelspec": {
   "display_name": "Python 3",
   "language": "python",
   "name": "python3"
  },
  "language_info": {
   "codemirror_mode": {
    "name": "ipython",
    "version": 3
   },
   "file_extension": ".py",
   "mimetype": "text/x-python",
   "name": "python",
   "nbconvert_exporter": "python",
   "pygments_lexer": "ipython3",
   "version": "3.6.3"
  }
 },
 "nbformat": 4,
 "nbformat_minor": 2
}
