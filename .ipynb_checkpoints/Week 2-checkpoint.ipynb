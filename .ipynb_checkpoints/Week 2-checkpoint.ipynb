{
 "cells": [
  {
   "cell_type": "code",
   "execution_count": 1,
   "metadata": {
    "collapsed": true
   },
   "outputs": [],
   "source": [
    "%matplotlib inline\n",
    "from collections import Counter\n",
    "import douwelib as dl\n",
    "import os, glob, statistics, numpy as np, matplotlib.pyplot as plt, pandas as pd\n",
    "from matplotlib import gridspec\n",
    "from matplotlib.backends.backend_pdf import PdfPages\n",
    "from collections import defaultdict\n",
    "import matplotlib.patches as mpatches\n",
    "import itertools\n",
    "from bokeh.plotting import figure, output_file, show, ColumnDataSource\n",
    "from bokeh.models import HoverTool, GlyphRenderer, Range1d\n",
    "from bokeh.layouts import gridplot\n",
    "import math\n",
    "from bokeh.io import export_png\n"
   ]
  },
  {
   "cell_type": "code",
   "execution_count": 2,
   "metadata": {
    "collapsed": true
   },
   "outputs": [],
   "source": [
    "sequence_file = 'C:/Users/Douwe/Documents/Python/Sequence_files/COG_LAB008_20170217_FNFAF05255_MN17942_sequencing_run_RCA_Pool_2_1D_16122_ch90_read1116_strand.done_fastq'"
   ]
  },
  {
   "cell_type": "code",
   "execution_count": 3,
   "metadata": {
    "collapsed": true
   },
   "outputs": [],
   "source": [
    "size = 4\n",
    "overlap = 1\n",
    "letters = 'ACTG'"
   ]
  },
  {
   "cell_type": "code",
   "execution_count": null,
   "metadata": {
    "collapsed": true
   },
   "outputs": [],
   "source": [
    "#Automatic plot \n",
    "X = np.array(dl.get_list_fastq(sequence_file, size, overlap, letters)[0])\n",
    "Y_h = dl.get_list_fastq(sequence_file, size, overlap, letters)[1]\n",
    "Y_m = dl.get_list_fastq(sequence_file, size, overlap, letters)[2]\n",
    "Y_l = np.array(dl.get_list_fastq(sequence_file, size, overlap, letters)[3])\n",
    "dl.plot_bases_high_medium_low(X, Y_h, Y_m, Y_l, 1000, 10)"
   ]
  },
  {
   "cell_type": "code",
   "execution_count": null,
   "metadata": {
    "collapsed": true
   },
   "outputs": [],
   "source": [
    "#What is inside automatic function\n",
    "data = dl.parse_fasta_file_error(sequence_file)          #reads sequence_file -> makes dictonairy with key = id and value = bases and scores\n",
    "#print(data)\n",
    "                                                         \n",
    "id_ = liast(data.keys())[0]                               #makes name id_ from key\n",
    "error_rate = dl.convert_qualityscore (data[id_]['score']) #converts quality score from symboles to values out of dict\n",
    "\n",
    "nucleotide_string = (data[id_]['sequence'])\n",
    "nucleotides_list = [c for c in (data[id_]['sequence'])]  #individualize nucleotides into list out of dict\n",
    "X = np.array(nucleotides_list)                           #array for nucleotides and error rate\n",
    "Y = np.array(error_rate)                                 "
   ]
  },
  {
   "cell_type": "code",
   "execution_count": null,
   "metadata": {
    "collapsed": true
   },
   "outputs": [],
   "source": [
    "scoremean_dict = dl.dict_scoremean_bases(nucleotide_string, error_rate, size, overlap)\n",
    "\n",
    "#Now for creating plot with High, Medium and Low\n",
    "plot_data_h = dl.dict_of_allbases_vs_High_Medium_Low(4, 'High', scoremean_dict, letters)\n",
    "plot_data_m = dl.dict_of_allbases_vs_High_Medium_Low(4, 'Medium', scoremean_dict, letters)\n",
    "plot_data_l = dl.dict_of_allbases_vs_High_Medium_Low(4, 'Low', scoremean_dict, letters)\n",
    "\n",
    "X = np.array(list(plot_data_h.keys()))\n",
    "Y_h = np.array(list(plot_data_h.values()))\n",
    "Y_m = np.array(list(plot_data_m.values()))\n",
    "Y_l = np.array(list(plot_data_l.values()))\n",
    "\n",
    "plot_data_h.values()"
   ]
  },
  {
   "cell_type": "code",
   "execution_count": null,
   "metadata": {
    "collapsed": true
   },
   "outputs": [],
   "source": [
    "#For all the files"
   ]
  },
  {
   "cell_type": "code",
   "execution_count": 4,
   "metadata": {
    "collapsed": true
   },
   "outputs": [],
   "source": [
    "os.chdir('C:/Users/Douwe/Documents/Python/Sequence_files')\n",
    "all_y_h = [] \n",
    "all_y_m = []\n",
    "all_y_l = []\n",
    "size = 5\n",
    "overlap = 2\n",
    "letters = 'ACTG'\n",
    "\n",
    "for file in glob.iglob('*.done_fastq'):\n",
    "    X = dl.get_list_fastq(file, size, overlap, letters)[0]\n",
    "    y_h = (dl.get_list_fastq(file, size, overlap, letters)[1])\n",
    "    y_m = (dl.get_list_fastq(file, size, overlap, letters)[2])\n",
    "    y_l = (dl.get_list_fastq(file, size, overlap, letters)[3])\n",
    "    all_y_h.append(y_h)\n",
    "    all_y_m.append(y_m)\n",
    "    all_y_l.append(y_l)\n",
    "    \n",
    "nc_all_y_h = [[i[n] for i in all_y_h] for n in range(len(all_y_h[0]))]\n",
    "c_all_y_h = list(sum(x) for x in nc_all_y_h)\n",
    "nc_all_y_m = [[i[n] for i in all_y_m] for n in range(len(all_y_m[0]))]\n",
    "c_all_y_m = list(sum(x) for x in nc_all_y_m)\n",
    "nc_all_y_l = [[i[n] for i in all_y_l] for n in range(len(all_y_l[0]))]\n",
    "c_all_y_l = list(sum(x) for x in nc_all_y_l)\n",
    "\n",
    "#dl.plot_bases_high_medium_low(X, c_all_y_h, c_all_y_m, c_all_y_l, 1000, 500)\n",
    "\n",
    "#get dict with many high error rates and thus low quality\n",
    "all_combinations = []\n",
    "for i in itertools.product('ACTG', repeat = size):\n",
    "    size_ = '{}'*size\n",
    "    all_combinations.append(size_.format(*i))\n",
    "    \n",
    "all_high_scores = dict(zip(all_combinations, c_all_y_h))\n",
    "d = dict((k, v) for k, v in all_high_scores.items() if v >= 60)\n"
   ]
  },
  {
   "cell_type": "code",
   "execution_count": 5,
   "metadata": {
    "collapsed": true
   },
   "outputs": [],
   "source": [
    "y_nan1 = dl.zero_to_nan(c_all_y_h)\n",
    "y_nan2 = dl.zero_to_nan(c_all_y_m)\n",
    "y_nan3 = dl.zero_to_nan(c_all_y_l)"
   ]
  },
  {
   "cell_type": "code",
   "execution_count": null,
   "metadata": {
    "collapsed": true
   },
   "outputs": [],
   "source": [
    "path = 'C:/Users/Douwe/Documents/Python/Sequence_files'\n",
    "dl.get_list_hml_scores_fastq(path, size, overlap, letters)[1]"
   ]
  },
  {
   "cell_type": "code",
   "execution_count": null,
   "metadata": {
    "collapsed": true
   },
   "outputs": [],
   "source": [
    "#Plot in Bokeh\n",
    "bases = 'ACTG'\n",
    "\n",
    "#percentage\n",
    "sum_scores = [x + y + z for x, y, z in zip(y_nan1, y_nan2, y_nan3)]\n",
    "per_h_of_all = [x / y * 100 for x, y in zip(y_nan1, sum_scores)]\n",
    "per_m_of_all = [x / y * 100 for x, y in zip(y_nan2, sum_scores)]\n",
    "per_l_of_all = [x / y * 100 for x, y in zip(y_nan3, sum_scores)]\n",
    "\n",
    "hover = HoverTool(tooltips=[(\"Bases\", \"@x\"), (\"High Scores\", \"@y\"\"%\")], mode='vline')\n",
    "\n",
    "#plotting\n",
    "p = figure(x_range=bases, y_axis_label='How many found bases in category%', tools=[hover, 'xwheel_zoom', 'xpan'])\n",
    "p.title.text = \"High, Medium, Low quality score per sequence\"\n",
    "p.xaxis.ticker = []\n",
    "p.y_range = Range1d(0, 100)\n",
    "p.xgrid.grid_line_color = None\n",
    "p.ygrid.grid_line_color = None\n",
    "\n",
    "#data\n",
    "p.circle(x=bases, y=per_h_of_all, size=5, alpha=1, muted_alpha=0.4, color='red', muted_color='red', legend='High scores')\n",
    "p.circle(x=bases, y=per_m_of_all, size=5, alpha=1, muted_alpha=0.4, color='blue', muted_color='blue', legend='Medium scores')\n",
    "p.circle(x=bases, y=per_l_of_all, size=5, alpha=1, muted_alpha=0.4, color='purple', muted_color='purple', legend='Low scores')\n",
    "\n",
    "p.legend.location = \"top_left\"\n",
    "p.legend.click_policy=\"mute\"\n",
    "\n",
    "# output to static HTML file\n",
    "#output_file(\"scatterplot.html\", title=\"High, Medium, Low quality score per sequence\")\n",
    "\n",
    "show(p)"
   ]
  },
  {
   "cell_type": "code",
   "execution_count": 6,
   "metadata": {},
   "outputs": [
    {
     "data": {
      "text/html": [
       "<div style=\"display: table;\"><div style=\"display: table-row;\"><div style=\"display: table-cell;\"><b title=\"bokeh.plotting.figure.Figure\">Figure</b>(</div><div style=\"display: table-cell;\">id&nbsp;=&nbsp;'0c2db64b-a1e7-44b3-8122-711f7c2dca58', <span id=\"3302b343-83c0-4a13-8373-779d1a20c96c\" style=\"cursor: pointer;\">&hellip;)</span></div></div><div class=\"2ce5616a-8034-4725-99c0-4756b4369b23\" style=\"display: none;\"><div style=\"display: table-cell;\"></div><div style=\"display: table-cell;\">above&nbsp;=&nbsp;[],</div></div><div class=\"2ce5616a-8034-4725-99c0-4756b4369b23\" style=\"display: none;\"><div style=\"display: table-cell;\"></div><div style=\"display: table-cell;\">aspect_scale&nbsp;=&nbsp;1,</div></div><div class=\"2ce5616a-8034-4725-99c0-4756b4369b23\" style=\"display: none;\"><div style=\"display: table-cell;\"></div><div style=\"display: table-cell;\">background_fill_alpha&nbsp;=&nbsp;{'value': 1.0},</div></div><div class=\"2ce5616a-8034-4725-99c0-4756b4369b23\" style=\"display: none;\"><div style=\"display: table-cell;\"></div><div style=\"display: table-cell;\">background_fill_color&nbsp;=&nbsp;{'value': '#ffffff'},</div></div><div class=\"2ce5616a-8034-4725-99c0-4756b4369b23\" style=\"display: none;\"><div style=\"display: table-cell;\"></div><div style=\"display: table-cell;\">below&nbsp;=&nbsp;[CategoricalAxis(id='1c2e0550-0c46-4aa4-9d84-69e7295e71da', ...)],</div></div><div class=\"2ce5616a-8034-4725-99c0-4756b4369b23\" style=\"display: none;\"><div style=\"display: table-cell;\"></div><div style=\"display: table-cell;\">border_fill_alpha&nbsp;=&nbsp;{'value': 1.0},</div></div><div class=\"2ce5616a-8034-4725-99c0-4756b4369b23\" style=\"display: none;\"><div style=\"display: table-cell;\"></div><div style=\"display: table-cell;\">border_fill_color&nbsp;=&nbsp;{'value': '#ffffff'},</div></div><div class=\"2ce5616a-8034-4725-99c0-4756b4369b23\" style=\"display: none;\"><div style=\"display: table-cell;\"></div><div style=\"display: table-cell;\">css_classes&nbsp;=&nbsp;None,</div></div><div class=\"2ce5616a-8034-4725-99c0-4756b4369b23\" style=\"display: none;\"><div style=\"display: table-cell;\"></div><div style=\"display: table-cell;\">disabled&nbsp;=&nbsp;False,</div></div><div class=\"2ce5616a-8034-4725-99c0-4756b4369b23\" style=\"display: none;\"><div style=\"display: table-cell;\"></div><div style=\"display: table-cell;\">extra_x_ranges&nbsp;=&nbsp;{},</div></div><div class=\"2ce5616a-8034-4725-99c0-4756b4369b23\" style=\"display: none;\"><div style=\"display: table-cell;\"></div><div style=\"display: table-cell;\">extra_y_ranges&nbsp;=&nbsp;{},</div></div><div class=\"2ce5616a-8034-4725-99c0-4756b4369b23\" style=\"display: none;\"><div style=\"display: table-cell;\"></div><div style=\"display: table-cell;\">h_symmetry&nbsp;=&nbsp;True,</div></div><div class=\"2ce5616a-8034-4725-99c0-4756b4369b23\" style=\"display: none;\"><div style=\"display: table-cell;\"></div><div style=\"display: table-cell;\">height&nbsp;=&nbsp;None,</div></div><div class=\"2ce5616a-8034-4725-99c0-4756b4369b23\" style=\"display: none;\"><div style=\"display: table-cell;\"></div><div style=\"display: table-cell;\">hidpi&nbsp;=&nbsp;True,</div></div><div class=\"2ce5616a-8034-4725-99c0-4756b4369b23\" style=\"display: none;\"><div style=\"display: table-cell;\"></div><div style=\"display: table-cell;\">js_event_callbacks&nbsp;=&nbsp;{},</div></div><div class=\"2ce5616a-8034-4725-99c0-4756b4369b23\" style=\"display: none;\"><div style=\"display: table-cell;\"></div><div style=\"display: table-cell;\">js_property_callbacks&nbsp;=&nbsp;{},</div></div><div class=\"2ce5616a-8034-4725-99c0-4756b4369b23\" style=\"display: none;\"><div style=\"display: table-cell;\"></div><div style=\"display: table-cell;\">left&nbsp;=&nbsp;[LinearAxis(id='94431d06-2061-4ca6-8988-786845c501b9', ...)],</div></div><div class=\"2ce5616a-8034-4725-99c0-4756b4369b23\" style=\"display: none;\"><div style=\"display: table-cell;\"></div><div style=\"display: table-cell;\">lod_factor&nbsp;=&nbsp;10,</div></div><div class=\"2ce5616a-8034-4725-99c0-4756b4369b23\" style=\"display: none;\"><div style=\"display: table-cell;\"></div><div style=\"display: table-cell;\">lod_interval&nbsp;=&nbsp;300,</div></div><div class=\"2ce5616a-8034-4725-99c0-4756b4369b23\" style=\"display: none;\"><div style=\"display: table-cell;\"></div><div style=\"display: table-cell;\">lod_threshold&nbsp;=&nbsp;2000,</div></div><div class=\"2ce5616a-8034-4725-99c0-4756b4369b23\" style=\"display: none;\"><div style=\"display: table-cell;\"></div><div style=\"display: table-cell;\">lod_timeout&nbsp;=&nbsp;500,</div></div><div class=\"2ce5616a-8034-4725-99c0-4756b4369b23\" style=\"display: none;\"><div style=\"display: table-cell;\"></div><div style=\"display: table-cell;\">match_aspect&nbsp;=&nbsp;False,</div></div><div class=\"2ce5616a-8034-4725-99c0-4756b4369b23\" style=\"display: none;\"><div style=\"display: table-cell;\"></div><div style=\"display: table-cell;\">min_border&nbsp;=&nbsp;5,</div></div><div class=\"2ce5616a-8034-4725-99c0-4756b4369b23\" style=\"display: none;\"><div style=\"display: table-cell;\"></div><div style=\"display: table-cell;\">min_border_bottom&nbsp;=&nbsp;None,</div></div><div class=\"2ce5616a-8034-4725-99c0-4756b4369b23\" style=\"display: none;\"><div style=\"display: table-cell;\"></div><div style=\"display: table-cell;\">min_border_left&nbsp;=&nbsp;None,</div></div><div class=\"2ce5616a-8034-4725-99c0-4756b4369b23\" style=\"display: none;\"><div style=\"display: table-cell;\"></div><div style=\"display: table-cell;\">min_border_right&nbsp;=&nbsp;None,</div></div><div class=\"2ce5616a-8034-4725-99c0-4756b4369b23\" style=\"display: none;\"><div style=\"display: table-cell;\"></div><div style=\"display: table-cell;\">min_border_top&nbsp;=&nbsp;None,</div></div><div class=\"2ce5616a-8034-4725-99c0-4756b4369b23\" style=\"display: none;\"><div style=\"display: table-cell;\"></div><div style=\"display: table-cell;\">name&nbsp;=&nbsp;None,</div></div><div class=\"2ce5616a-8034-4725-99c0-4756b4369b23\" style=\"display: none;\"><div style=\"display: table-cell;\"></div><div style=\"display: table-cell;\">outline_line_alpha&nbsp;=&nbsp;{'value': 1.0},</div></div><div class=\"2ce5616a-8034-4725-99c0-4756b4369b23\" style=\"display: none;\"><div style=\"display: table-cell;\"></div><div style=\"display: table-cell;\">outline_line_cap&nbsp;=&nbsp;'butt',</div></div><div class=\"2ce5616a-8034-4725-99c0-4756b4369b23\" style=\"display: none;\"><div style=\"display: table-cell;\"></div><div style=\"display: table-cell;\">outline_line_color&nbsp;=&nbsp;{'value': '#e5e5e5'},</div></div><div class=\"2ce5616a-8034-4725-99c0-4756b4369b23\" style=\"display: none;\"><div style=\"display: table-cell;\"></div><div style=\"display: table-cell;\">outline_line_dash&nbsp;=&nbsp;[],</div></div><div class=\"2ce5616a-8034-4725-99c0-4756b4369b23\" style=\"display: none;\"><div style=\"display: table-cell;\"></div><div style=\"display: table-cell;\">outline_line_dash_offset&nbsp;=&nbsp;0,</div></div><div class=\"2ce5616a-8034-4725-99c0-4756b4369b23\" style=\"display: none;\"><div style=\"display: table-cell;\"></div><div style=\"display: table-cell;\">outline_line_join&nbsp;=&nbsp;'miter',</div></div><div class=\"2ce5616a-8034-4725-99c0-4756b4369b23\" style=\"display: none;\"><div style=\"display: table-cell;\"></div><div style=\"display: table-cell;\">outline_line_width&nbsp;=&nbsp;{'value': 1},</div></div><div class=\"2ce5616a-8034-4725-99c0-4756b4369b23\" style=\"display: none;\"><div style=\"display: table-cell;\"></div><div style=\"display: table-cell;\">output_backend&nbsp;=&nbsp;'canvas',</div></div><div class=\"2ce5616a-8034-4725-99c0-4756b4369b23\" style=\"display: none;\"><div style=\"display: table-cell;\"></div><div style=\"display: table-cell;\">plot_height&nbsp;=&nbsp;600,</div></div><div class=\"2ce5616a-8034-4725-99c0-4756b4369b23\" style=\"display: none;\"><div style=\"display: table-cell;\"></div><div style=\"display: table-cell;\">plot_width&nbsp;=&nbsp;600,</div></div><div class=\"2ce5616a-8034-4725-99c0-4756b4369b23\" style=\"display: none;\"><div style=\"display: table-cell;\"></div><div style=\"display: table-cell;\">renderers&nbsp;=&nbsp;[CategoricalAxis(id='1c2e0550-0c46-4aa4-9d84-69e7295e71da', ...), Grid(id='489edc4f-2649-49c6-a3f7-3ce1d4f9ea21', ...), LinearAxis(id='94431d06-2061-4ca6-8988-786845c501b9', ...), Grid(id='ee3f57d0-2d74-4e02-a0cb-0c18ec6ea3be', ...), Legend(id='721c5ef8-c331-40b9-8385-2949c9c31b9f', ...), GlyphRenderer(id='e9921fba-aa60-4571-b45f-283ba02cf877', ...), GlyphRenderer(id='887edb9a-1370-4f3f-871f-3e8d1cc9b106', ...), GlyphRenderer(id='bb751bba-203b-4043-aa51-dc14f4cc6440', ...)],</div></div><div class=\"2ce5616a-8034-4725-99c0-4756b4369b23\" style=\"display: none;\"><div style=\"display: table-cell;\"></div><div style=\"display: table-cell;\">right&nbsp;=&nbsp;[],</div></div><div class=\"2ce5616a-8034-4725-99c0-4756b4369b23\" style=\"display: none;\"><div style=\"display: table-cell;\"></div><div style=\"display: table-cell;\">sizing_mode&nbsp;=&nbsp;'fixed',</div></div><div class=\"2ce5616a-8034-4725-99c0-4756b4369b23\" style=\"display: none;\"><div style=\"display: table-cell;\"></div><div style=\"display: table-cell;\">subscribed_events&nbsp;=&nbsp;[],</div></div><div class=\"2ce5616a-8034-4725-99c0-4756b4369b23\" style=\"display: none;\"><div style=\"display: table-cell;\"></div><div style=\"display: table-cell;\">tags&nbsp;=&nbsp;[],</div></div><div class=\"2ce5616a-8034-4725-99c0-4756b4369b23\" style=\"display: none;\"><div style=\"display: table-cell;\"></div><div style=\"display: table-cell;\">title&nbsp;=&nbsp;Title(id='f6306cf0-45f5-4b68-934f-8cbbd5e288bc', ...),</div></div><div class=\"2ce5616a-8034-4725-99c0-4756b4369b23\" style=\"display: none;\"><div style=\"display: table-cell;\"></div><div style=\"display: table-cell;\">title_location&nbsp;=&nbsp;'above',</div></div><div class=\"2ce5616a-8034-4725-99c0-4756b4369b23\" style=\"display: none;\"><div style=\"display: table-cell;\"></div><div style=\"display: table-cell;\">toolbar&nbsp;=&nbsp;Toolbar(id='a0724e89-a290-47af-b193-9973da070cf9', ...),</div></div><div class=\"2ce5616a-8034-4725-99c0-4756b4369b23\" style=\"display: none;\"><div style=\"display: table-cell;\"></div><div style=\"display: table-cell;\">toolbar_location&nbsp;=&nbsp;'right',</div></div><div class=\"2ce5616a-8034-4725-99c0-4756b4369b23\" style=\"display: none;\"><div style=\"display: table-cell;\"></div><div style=\"display: table-cell;\">toolbar_sticky&nbsp;=&nbsp;True,</div></div><div class=\"2ce5616a-8034-4725-99c0-4756b4369b23\" style=\"display: none;\"><div style=\"display: table-cell;\"></div><div style=\"display: table-cell;\">v_symmetry&nbsp;=&nbsp;False,</div></div><div class=\"2ce5616a-8034-4725-99c0-4756b4369b23\" style=\"display: none;\"><div style=\"display: table-cell;\"></div><div style=\"display: table-cell;\">width&nbsp;=&nbsp;None,</div></div><div class=\"2ce5616a-8034-4725-99c0-4756b4369b23\" style=\"display: none;\"><div style=\"display: table-cell;\"></div><div style=\"display: table-cell;\">x_range&nbsp;=&nbsp;FactorRange(id='a7a952d3-50fa-4e3e-93d7-0c52e8815fdc', ...),</div></div><div class=\"2ce5616a-8034-4725-99c0-4756b4369b23\" style=\"display: none;\"><div style=\"display: table-cell;\"></div><div style=\"display: table-cell;\">x_scale&nbsp;=&nbsp;CategoricalScale(id='e84a1d63-33c2-4a05-9db0-9211ac50b318', ...),</div></div><div class=\"2ce5616a-8034-4725-99c0-4756b4369b23\" style=\"display: none;\"><div style=\"display: table-cell;\"></div><div style=\"display: table-cell;\">y_range&nbsp;=&nbsp;Range1d(id='ce20f012-70e8-4e23-a4e9-c3e31c2388c2', ...),</div></div><div class=\"2ce5616a-8034-4725-99c0-4756b4369b23\" style=\"display: none;\"><div style=\"display: table-cell;\"></div><div style=\"display: table-cell;\">y_scale&nbsp;=&nbsp;LinearScale(id='6fb98995-af89-464e-bf77-9e21c312fd60', ...))</div></div></div>\n",
       "<script>\n",
       "(function() {\n",
       "  var expanded = false;\n",
       "  var ellipsis = document.getElementById(\"3302b343-83c0-4a13-8373-779d1a20c96c\");\n",
       "  ellipsis.addEventListener(\"click\", function() {\n",
       "    var rows = document.getElementsByClassName(\"2ce5616a-8034-4725-99c0-4756b4369b23\");\n",
       "    for (var i = 0; i < rows.length; i++) {\n",
       "      var el = rows[i];\n",
       "      el.style.display = expanded ? \"none\" : \"table-row\";\n",
       "    }\n",
       "    ellipsis.innerHTML = expanded ? \"&hellip;)\" : \"&lsaquo;&lsaquo;&lsaquo;\";\n",
       "    expanded = !expanded;\n",
       "  });\n",
       "})();\n",
       "</script>\n"
      ],
      "text/plain": [
       "Figure(id='0c2db64b-a1e7-44b3-8122-711f7c2dca58', ...)"
      ]
     },
     "execution_count": 6,
     "metadata": {},
     "output_type": "execute_result"
    }
   ],
   "source": [
    "dl.plot_bases_hml_in_bokeh('D', X, y_nan1, y_nan2, y_nan3)"
   ]
  },
  {
   "cell_type": "code",
   "execution_count": null,
   "metadata": {
    "collapsed": true
   },
   "outputs": [],
   "source": [
    "#making dataframe for clustering\n",
    "all_combinations = []\n",
    "for i in itertools.product('ACTG', repeat = size):\n",
    "    size_ = '{}'*size\n",
    "    all_combinations.append(size_.format(*i))\n",
    "    \n",
    "all_high_scores = dict(zip(all_combinations, y_nan1))\n",
    "#d_h = dict((k, v) for k, v in all_high_scores.items() if v >= 60)\n",
    "\n",
    "all_combinations = []\n",
    "for i in itertools.product('ACTG', repeat = size):\n",
    "    size_ = '{}'*size\n",
    "    all_combinations.append(size_.format(*i))\n",
    "    \n",
    "all_medium_scores = dict(zip(all_combinations, y_nan2))\n",
    "#d_m = dict((k, v) for k, v in all_medium_scores.items() if v >= 60)\n",
    "\n",
    "all_combinations = []\n",
    "for i in itertools.product('ACTG', repeat = size):\n",
    "    size_ = '{}'*size\n",
    "    all_combinations.append(size_.format(*i))\n",
    "    \n",
    "all_low_scores = dict(zip(all_combinations, y_nan3))\n",
    "#d_l = dict((k, v) for k, v in all_low_scores.items() if v >= 60)\n",
    "\n",
    "all_high_scores['Scores'] = 'High'\n",
    "all_medium_scores['Scores'] = 'Medium'\n",
    "all_low_scores['Scores'] = 'Low'\n",
    "\n",
    "df_ = pd.DataFrame.from_dict([all_high_scores, all_medium_scores, all_low_scores])\n",
    "df_ = df_.set_index('Scores')\n",
    "df_.columns.name = 'Sequence'\n",
    "df_ = df_.fillna(value=0)\n",
    "\n",
    "sum_scores = df_.sum(axis=0)\n",
    "df_[0:1] = (df_[0:1]/sum_scores)*100\n",
    "df_[1:2] = (df_[1:2]/sum_scores)*100\n",
    "df_[2:3] = (df_[2:3]/sum_scores)*100"
   ]
  },
  {
   "cell_type": "code",
   "execution_count": null,
   "metadata": {
    "collapsed": true
   },
   "outputs": [],
   "source": [
    "#plotting with clustering in bokeh\n",
    "from sklearn.cluster import KMeans\n",
    "\n",
    "x_plot = np.column_stack(([df_.iloc[2], df_.iloc[0]]))\n",
    "kmeans= KMeans(n_clusters=4)\n",
    "kmeans.fit(x_plot)\n",
    "y_kmeans = kmeans.predict(x_plot)\n",
    "colors = np.array([x for x in ('#00f', '#f00', '#0ff', '#ff0')])\n",
    "\n",
    "sequence = list(df_.columns)\n",
    "TOOLS='hover, reset, pan, wheel_zoom'\n",
    "\n",
    "p = figure(x_range=[0, 100], y_range=[0, 100], x_axis_label='% in low score', y_axis_label='% in high score', \n",
    "           title='Clustering of Qualityscore', tools=TOOLS)\n",
    "p.circle(x_plot[:, 0], x_plot[:, 1], color=colors[y_kmeans].tolist(), fill_alpha=0.2)\n",
    "centers = kmeans.cluster_centers_\n",
    "p.circle(centers[:, 0], centers[:, 1], color='black', size=10, alpha=0.4);\n",
    "\n",
    "p.select_one(HoverTool).tooltips = [\n",
    "     ('HighScore', '$x%'),\n",
    "     ('LowScore', '$y%')\n",
    "]\n",
    "\n",
    "show(p)"
   ]
  },
  {
   "cell_type": "code",
   "execution_count": null,
   "metadata": {
    "collapsed": true
   },
   "outputs": [],
   "source": [
    "all_combinations = dl.list_with_all_combinations(letters, size)\n",
    "\n",
    "per_all_h_scores = dict(zip(all_combinations, per_h_of_all))"
   ]
  },
  {
   "cell_type": "code",
   "execution_count": null,
   "metadata": {
    "collapsed": true
   },
   "outputs": [],
   "source": [
    "per_all_h_scores \n",
    "d = dict((k, v) for k, v in per_all_h_scores.items() if v >= 20)\n",
    "print(d)"
   ]
  },
  {
   "cell_type": "code",
   "execution_count": null,
   "metadata": {
    "collapsed": true
   },
   "outputs": [],
   "source": [
    "#scores as values\n",
    "os.chdir('C:/Users/Douwe/Documents/Python/Sequence_files')\n",
    "dict_x = dict.fromkeys(dl.list_with_all_combinations(letters, size))\n",
    "\n",
    "for file in glob.iglob('*.done_fastq'):\n",
    "    data = dl.parse_fasta_file_error(file)\n",
    "    id_ = list(data.keys())[0]\n",
    "    error_rate = (dl.convert_qualityscore(data[id_]['score']))\n",
    "    nucleotide_string = ((data[id_]['sequence']))\n",
    "    n_split = dl.split_overlap(nucleotide_string, size, overlap)\n",
    "    listed_nucleotides = []\n",
    "    for l in n_split:\n",
    "        if len(l) >= size:\n",
    "            listed_nucleotides.append(l)\n",
    "        else:\n",
    "            #print('string without {} bases were skipped'.format(size))\n",
    "            continue\n",
    "    error_rate_split = dl.mean_calc_list(list(dl.split_overlap(error_rate, size, overlap)), size)\n",
    "    dict_z = dict(zip(listed_nucleotides, error_rate_split))\n",
    "    dl.dict_values_to_other_dict(dict_x, dict_z)\n",
    "\n",
    "for k, v in dict_x.items():\n",
    "    if v == None:\n",
    "        continue\n",
    "    else:\n",
    "        dict_x[k] = statistics.mean(v)"
   ]
  },
  {
   "cell_type": "code",
   "execution_count": null,
   "metadata": {
    "collapsed": true
   },
   "outputs": [],
   "source": [
    "path = 'C:/Users/Douwe/Documents/Python/Sequence_files'\n",
    "\n",
    "dict_x = dl.get_dict_mean_of_seq_fastq(path, size, overlap, letters)"
   ]
  },
  {
   "cell_type": "code",
   "execution_count": null,
   "metadata": {
    "collapsed": true
   },
   "outputs": [],
   "source": [
    "from sklearn.cluster import KMeans\n",
    "\n",
    "keys = []\n",
    "values = []\n",
    "for key, value in dict_x.items():\n",
    "    keys.append(key)\n",
    "    values.append(value)\n",
    "\n",
    "x_plot = np.column_stack((keys, values))\n",
    "\n",
    "#Plot in Bokeh\n",
    "ylim = len(values)\n",
    "figsize = 500\n",
    "\n",
    "hover = HoverTool(tooltips=[(\"Bases\", \"@x\"), (\"Qualityscore\", \"@y\")], mode='vline')\n",
    "\n",
    "#plotting\n",
    "p = figure(x_range=keys, y_axis_label='QaulityScore', tools=[hover, 'xwheel_zoom', 'xpan'])\n",
    "p.title.text = \"Quality Score per base combinations\"\n",
    "p.xgrid.grid_line_color = None\n",
    "p.ygrid.grid_line_color = None\n",
    "\n",
    "#data\n",
    "p.circle(x = keys, y= values, size=5, alpha=1, color='red', legend='QualityScore')\n",
    "\n",
    "p.legend.location = \"top_left\"\n",
    "\n",
    "show(p)"
   ]
  },
  {
   "cell_type": "code",
   "execution_count": null,
   "metadata": {
    "collapsed": true
   },
   "outputs": [],
   "source": [
    "#for documentation. want 6 plots. 3 on top with size differences and overlap. and 3 on bottum with same parameters but with\n",
    "#with last plot. so 4:1, 5:2, 6:3 high/medium/low and 4:1, 5:2, 6:3 normal scores\n",
    "#Put in dl.get_list_hml_scores_fastq(path, size, overlap, letters)\n",
    "\n",
    "path = 'C:/Users/Douwe/Documents/Python/Sequence_files'\n",
    "letters = 'ACTG'\n",
    "\n",
    "#data\n",
    "x1 = dl.get_list_hml_scores_fastq(path, 4, 1, letters)[0]\n",
    "x2 = dl.get_list_hml_scores_fastq(path, 5, 2, letters)[0]\n",
    "x3 = dl.get_list_hml_scores_fastq(path, 6, 3, letters)[0]\n",
    "y_high1 = dl.get_list_hml_scores_fastq(path, 4, 1, letters)[1]\n",
    "y_high2 = dl.get_list_hml_scores_fastq(path, 5, 2, letters)[1]\n",
    "y_high3 = dl.get_list_hml_scores_fastq(path, 6, 3, letters)[1]\n",
    "y_medium1 = dl.get_list_hml_scores_fastq(path, 4, 1, letters)[2]\n",
    "y_medium2 = dl.get_list_hml_scores_fastq(path, 5, 2, letters)[2]\n",
    "y_medium3 = dl.get_list_hml_scores_fastq(path, 6, 3, letters)[2]\n",
    "y_low1 = dl.get_list_hml_scores_fastq(path, 4, 1, letters)[3]\n",
    "y_low2 = dl.get_list_hml_scores_fastq(path, 5, 2, letters)[3]\n",
    "y_low3 = dl.get_list_hml_scores_fastq(path, 6, 3, letters)[3]\n",
    "\n",
    "#actual plot\n",
    "A = dl.plot_raw_values_bokeh('A', dl.get_dict_mean_of_seq_fastq(path, 4, 1, letters))\n",
    "B = dl.plot_raw_values_bokeh('B', dl.get_dict_mean_of_seq_fastq(path, 5, 2, letters))\n",
    "C = dl.plot_raw_values_bokeh('C', dl.get_dict_mean_of_seq_fastq(path, 6, 2, letters))\n",
    "D = dl.plot_bases_hml_in_bokeh('D', x1, y_high1, y_medium1, y_low1)\n",
    "E = dl.plot_bases_hml_in_bokeh('E', x2, y_high2, y_medium2, y_low2)\n",
    "F = dl.plot_bases_hml_in_bokeh('F', x3, y_high3, y_medium3, y_low3)"
   ]
  },
  {
   "cell_type": "code",
   "execution_count": null,
   "metadata": {
    "collapsed": true
   },
   "outputs": [],
   "source": [
    "grid = gridplot([[A, B, C], [D, E, F]])\n",
    "\n",
    "export_png(grid, filename=\"plot.png\")\n",
    "\n",
    "#output_file(\"gridplot.png\")\n",
    "#output_file(\"gridplot.html\")\n",
    "#output to static HTML file\n",
    "#output_file(\"gridplot.html\", title=\"all data\")"
   ]
  },
  {
   "cell_type": "code",
   "execution_count": null,
   "metadata": {
    "collapsed": true
   },
   "outputs": [],
   "source": [
    "show(grid)"
   ]
  },
  {
   "cell_type": "code",
   "execution_count": null,
   "metadata": {
    "collapsed": true
   },
   "outputs": [],
   "source": [
    "q1 = dl.get_dict_mean_of_seq_fastq(path, 4, 1, letters)\n",
    "q2 = dl.get_dict_mean_of_seq_fastq(path, 5, 2, letters)\n",
    "q3 = dl.get_dict_mean_of_seq_fastq(path, 6, 2, letters)"
   ]
  },
  {
   "cell_type": "code",
   "execution_count": null,
   "metadata": {
    "collapsed": true
   },
   "outputs": [],
   "source": [
    "sorted(q3.items(), key=lambda x:x[1])"
   ]
  },
  {
   "cell_type": "code",
   "execution_count": null,
   "metadata": {
    "collapsed": true
   },
   "outputs": [],
   "source": [
    "\n",
    "all_combinations = dl.list_with_all_combinations(letters, size)\n",
    "\n",
    "per_all_h_scores = dict(zip(all_combinations, per_h_of_all))\n",
    "\n",
    "per_all_h_scores \n",
    "d = dict((k, v) for k, v in per_all_h_scores.items() if v >= 20)\n",
    "print(d)"
   ]
  },
  {
   "cell_type": "code",
   "execution_count": null,
   "metadata": {
    "collapsed": true
   },
   "outputs": [],
   "source": [
    "size = 6\n",
    "\n",
    "sum_scores = [x + y + z for x, y, z in zip(y_high3, y_medium3, y_low3)]\n",
    "per_h_of_all = [x / y * 100 for x, y in zip(y_high3, sum_scores)]\n",
    "all_combinations = dl.list_with_all_combinations(letters, size)\n",
    "z = dict(zip(all_combinations, per_h_of_all))\n"
   ]
  },
  {
   "cell_type": "code",
   "execution_count": null,
   "metadata": {
    "collapsed": true
   },
   "outputs": [],
   "source": [
    "sorted(z.items(), key=lambda x:x[1])"
   ]
  },
  {
   "cell_type": "code",
   "execution_count": null,
   "metadata": {
    "collapsed": true
   },
   "outputs": [],
   "source": [
    "t = list(z.values())\n",
    "#q4 = [0 if t is NaN else t for t in z.values()]\n",
    "\n",
    "q4 = [0 if math.isnan(t) else t for t in z.values()]"
   ]
  },
  {
   "cell_type": "code",
   "execution_count": null,
   "metadata": {
    "collapsed": true
   },
   "outputs": [],
   "source": [
    "t2 = list(z.keys())"
   ]
  },
  {
   "cell_type": "code",
   "execution_count": null,
   "metadata": {
    "collapsed": true
   },
   "outputs": [],
   "source": [
    "dict_z = dict(zip(t2, q4))"
   ]
  },
  {
   "cell_type": "code",
   "execution_count": null,
   "metadata": {
    "collapsed": true
   },
   "outputs": [],
   "source": [
    "dict_z"
   ]
  },
  {
   "cell_type": "code",
   "execution_count": null,
   "metadata": {
    "collapsed": true
   },
   "outputs": [],
   "source": [
    "sorted(dict_z.items(), key=lambda x:x[1])[4091:4097]"
   ]
  },
  {
   "cell_type": "code",
   "execution_count": null,
   "metadata": {
    "collapsed": true
   },
   "outputs": [],
   "source": [
    "len(dict_z)"
   ]
  },
  {
   "cell_type": "code",
   "execution_count": null,
   "metadata": {
    "collapsed": true
   },
   "outputs": [],
   "source": []
  }
 ],
 "metadata": {
  "kernelspec": {
   "display_name": "Python 3",
   "language": "python",
   "name": "python3"
  },
  "language_info": {
   "codemirror_mode": {
    "name": "ipython",
    "version": 3
   },
   "file_extension": ".py",
   "mimetype": "text/x-python",
   "name": "python",
   "nbconvert_exporter": "python",
   "pygments_lexer": "ipython3",
   "version": "3.6.3"
  }
 },
 "nbformat": 4,
 "nbformat_minor": 2
}
