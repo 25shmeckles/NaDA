{
 "cells": [
  {
   "cell_type": "code",
   "execution_count": 1,
   "metadata": {
    "collapsed": true
   },
   "outputs": [],
   "source": [
    "import douwelib as dl, os, glob, numpy as np\n",
    "from collections import defaultdict, Counter\n",
    "from bokeh.plotting import figure, output_file, show\n",
    "from bokeh.layouts import gridplot\n",
    "from math import pi\n",
    "from bokeh.models import NumeralTickFormatter"
   ]
  },
  {
   "cell_type": "code",
   "execution_count": 2,
   "metadata": {
    "collapsed": true
   },
   "outputs": [],
   "source": [
    "#5-12 for 6th, Sphinx documentation of what have done so far and making presentation"
   ]
  },
  {
   "cell_type": "code",
   "execution_count": 3,
   "metadata": {},
   "outputs": [],
   "source": [
    "path = 'C:/Users/Douwe/Documents/Python/variantcalling/tmp/20171110_1634_HN_TP53_test1_0'\n",
    "\n",
    "data = dl.vcf_all_strip(path, 'no', 'no')[1]\n",
    "data_ = dl.vcf_all_strip(path, 'no', 'no')[3]"
   ]
  },
  {
   "cell_type": "code",
   "execution_count": 13,
   "metadata": {},
   "outputs": [
    {
     "data": {
      "text/plain": [
       "[['17\\t7576636\\t.\\tC\\tT\\t0.14\\tLowQual\\tAC=1;AF=1.00;AN=1;DP=4;Dels=0.25;FS=0.000;HaplotypeScore=1.9330;MLEAC=1;MLEAF=1.00;MQ=100.00;MQ0=0;QD=0.03;SOR=1.609\\tGT:AD:DP:GQ:PL\\t1:2,1:3:15:15,0',\n",
       "  '17\\t7576641\\t.\\tT\\tG\\t0\\tLowQual\\tAC=1;AF=1.00;AN=1;BaseQRankSum=1.026;DP=4;Dels=0.00;FS=0.000;HaplotypeScore=3.4302;MLEAC=0;MLEAF=0.00;MQ=100.00;MQ0=0;MQRankSum=0.000;QD=-0.00;ReadPosRankSum=0.000;SOR=0.693\\tGT:AD:DP:GQ:PL\\t1:2,2:4:1:1,0'],\n",
       " ['17\\t7576592\\t.\\tA\\tT\\t0.04\\tLowQual\\tAC=1;AF=1.00;AN=1;DP=1;Dels=0.00;FS=0.000;HaplotypeScore=0.0000;MLEAC=1;MLEAF=1.00;MQ=22.00;MQ0=0;QD=0.04;SOR=1.609\\tGT:AD:DP:GQ:PL\\t1:0,1:1:10:10,0'],\n",
       " ['17\\t7573976\\t.\\tT\\tG\\t0.01\\tLowQual\\tAC=1;AF=1.00;AN=1;BaseQRankSum=-0.736;DP=3;Dels=0.00;FS=0.000;HaplotypeScore=0.6651;MLEAC=1;MLEAF=1.00;MQ=100.00;MQ0=0;MQRankSum=-0.736;QD=0.00;ReadPosRankSum=-0.736;SOR=1.179\\tGT:AD:DP:GQ:PL\\t1:1,2:3:2:2,0',\n",
       "  '17\\t7574000\\t.\\tC\\tA\\t0.41\\tLowQual\\tAC=1;AF=1.00;AN=1;DP=1;Dels=0.00;FS=0.000;HaplotypeScore=0.0000;MLEAC=1;MLEAF=1.00;MQ=100.00;MQ0=0;QD=0.41;SOR=1.609\\tGT:AD:DP:GQ:PL\\t1:0,1:1:20:20,0'],\n",
       " ['17\\t7578137\\t.\\tC\\tA\\t0\\tLowQual\\tAC=0;AF=0.00;AN=1;BaseQRankSum=0.736;DP=4;Dels=0.00;FS=0.000;HaplotypeScore=2.7652;MLEAC=0;MLEAF=0.00;MQ=100.00;MQ0=0;MQRankSum=0.736;ReadPosRankSum=0.736;SOR=0.368\\tGT:AD:DP:GQ:PL\\t0:2,2:4:7:0,7',\n",
       "  '17\\t7578257\\t.\\tC\\tA\\t22.03\\tLowQual\\tAC=1;AF=1.00;AN=1;DP=4;Dels=0.00;FS=0.000;HaplotypeScore=0.0000;MLEAC=1;MLEAF=1.00;MQ=100.00;MQ0=0;QD=5.51;SOR=3.258\\tGT:AD:DP:GQ:PL\\t1:0,4:4:52:52,0',\n",
       "  '17\\t7578258\\t.\\tC\\tG\\t26.02\\tLowQual\\tAC=1;AF=1.00;AN=1;DP=4;Dels=0.00;FS=0.000;HaplotypeScore=0.0000;MLEAC=1;MLEAF=1.00;MQ=100.00;MQ0=0;QD=6.50;SOR=3.258\\tGT:AD:DP:GQ:PL\\t1:0,4:4:56:56,0'],\n",
       " ['17\\t7579323\\t.\\tC\\tG\\t0.02\\tLowQual\\tAC=1;AF=1.00;AN=1;DP=6;Dels=0.83;FS=0.000;HaplotypeScore=20.8175;MLEAC=1;MLEAF=1.00;MQ=96.82;MQ0=0;QD=0.00;SOR=0.693\\tGT:AD:DP:GQ:PL\\t1:0,1:1:7:7,0',\n",
       "  '17\\t7579328\\t.\\tT\\tG\\t0.04\\tLowQual\\tAC=1;AF=1.00;AN=1;DP=1;Dels=0.00;FS=0.000;HaplotypeScore=0.0000;MLEAC=1;MLEAF=1.00;MQ=100.00;MQ0=0;QD=0.04;SOR=1.609\\tGT:AD:DP:GQ:PL\\t1:0,1:1:10:10,0'],\n",
       " ['17\\t7578399\\t.\\tG\\tA\\t0\\tLowQual\\tAC=0;AF=0.00;AN=1;BaseQRankSum=0.804;DP=2;Dels=0.00;FS=0.000;HaplotypeScore=0.0000;MLEAC=0;MLEAF=0.00;MQ=100.00;MQ0=0;MQRankSum=0.804;ReadPosRankSum=0.804;SOR=0.693\\tGT:AD:DP:GQ:PL\\t0:1,1:2:2:0,2',\n",
       "  '17\\t7578401\\t.\\tG\\tA\\t0\\tLowQual\\tAC=0;AF=0.00;AN=1;DP=2;Dels=0.00;FS=0.000;HaplotypeScore=0.0000;MLEAC=0;MLEAF=0.00;MQ=100.00;MQ0=0;SOR=0.223\\tGT:AD:DP:GQ:PL\\t0:1,1:2:21:0,21',\n",
       "  '17\\t7579315\\t.\\tG\\tA\\t0\\tLowQual\\tAC=0;AF=0.00;AN=1;DP=2;Dels=0.00;FS=0.000;HaplotypeScore=0.0000;MLEAC=0;MLEAF=0.00;MQ=100.00;MQ0=0;SOR=0.223\\tGT:AD:DP:GQ:PL\\t0:1,1:2:12:0,12',\n",
       "  '17\\t7579323\\t.\\tC\\tA\\t0.04\\tLowQual\\tAC=1;AF=1.00;AN=1;DP=2;Dels=0.00;FS=0.000;HaplotypeScore=0.0000;MLEAC=1;MLEAF=1.00;MQ=100.00;MQ0=0;QD=0.02;SOR=1.609\\tGT:AD:DP:GQ:PL\\t1:0,1:2:10:10,0'],\n",
       " [],\n",
       " ['17\\t7577559\\t.\\tG\\tA\\t0\\tLowQual\\tAC=0;AF=0.00;AN=1;DP=4;Dels=0.00;FS=0.000;HaplotypeScore=0.9665;MLEAC=0;MLEAF=0.00;MQ=100.00;MQ0=0;SOR=0.105\\tGT:AD:DP:GQ:PL\\t0:2,1:4:27:0,27'],\n",
       " ['17\\t7578498\\t.\\tC\\tA\\t0\\tLowQual\\tAC=1;AF=1.00;AN=1;BaseQRankSum=0.804;DP=3;Dels=0.00;FS=0.000;HaplotypeScore=0.0000;MLEAC=0;MLEAF=0.00;MQ=100.00;MQ0=0;MQRankSum=0.804;QD=-0.00;ReadPosRankSum=0.804;SOR=1.447\\tGT:AD:DP:GQ:PL\\t1:2,1:3:1:1,0',\n",
       "  '17\\t7578589\\t.\\tA\\tC\\t0\\tLowQual\\tAC=0;AF=0.00;AN=1;BaseQRankSum=-0.736;DP=3;Dels=0.00;FS=0.000;HaplotypeScore=0.0000;MLEAC=0;MLEAF=0.00;MQ=100.00;MQ0=0;MQRankSum=0.736;ReadPosRankSum=-0.736;SOR=1.414\\tGT:AD:DP:GQ:PL\\t0:2,1:3:20:0,20',\n",
       "  '17\\t7578593\\t.\\tC\\tG\\t0.04\\tLowQual\\tAC=1;AF=1.00;AN=1;DP=1;Dels=0.00;FS=0.000;HaplotypeScore=0.0000;MLEAC=1;MLEAF=1.00;MQ=100.00;MQ0=0;QD=0.04;SOR=1.609\\tGT:AD:DP:GQ:PL\\t1:0,1:1:10:10,0',\n",
       "  '17\\t7578595\\t.\\tC\\tG\\t0.03\\tLowQual\\tAC=1;AF=1.00;AN=1;DP=1;Dels=0.00;FS=0.000;HaplotypeScore=0.0000;MLEAC=1;MLEAF=1.00;MQ=100.00;MQ0=0;QD=0.03;SOR=0.693\\tGT:AD:DP:GQ:PL\\t1:0,1:1:8:8,0'],\n",
       " ['17\\t7579316\\t.\\tC\\tA\\t1.77\\tLowQual\\tAC=1;AF=1.00;AN=1;DP=6;Dels=0.17;FS=0.000;HaplotypeScore=4.7229;MLEAC=1;MLEAF=1.00;MQ=100.00;MQ0=0;QD=0.29;SOR=2.303\\tGT:AD:DP:GQ:PL\\t1:1,2:5:27:27,0',\n",
       "  '17\\t7579327\\t.\\tC\\tT\\t0.17\\tLowQual\\tAC=1;AF=1.00;AN=1;DP=1;Dels=0.00;FS=0.000;HaplotypeScore=0.0000;MLEAC=1;MLEAF=1.00;MQ=100.00;MQ0=0;QD=0.17;SOR=1.609\\tGT:AD:DP:GQ:PL\\t1:0,1:1:16:16,0'],\n",
       " [],\n",
       " [],\n",
       " ['17\\t7573949\\t.\\tC\\tA\\t0\\tLowQual\\tAC=0;AF=0.00;AN=1;DP=3;Dels=0.33;FS=0.000;HaplotypeScore=5.3340;MLEAC=0;MLEAF=0.00;MQ=100.00;MQ0=0;SOR=0.223\\tGT:AD:DP:GQ:PL\\t0:1,1:2:14:0,14',\n",
       "  '17\\t7573950\\t.\\tT\\tA\\t0\\tLowQual\\tAC=0;AF=0.00;AN=1;BaseQRankSum=0.804;DP=3;Dels=0.33;FS=0.000;HaplotypeScore=4.3675;MLEAC=0;MLEAF=0.00;MQ=100.00;MQ0=0;MQRankSum=0.804;ReadPosRankSum=0.804;SOR=0.693\\tGT:AD:DP:GQ:PL\\t0:1,1:2:6:0,6',\n",
       "  '17\\t7573967\\t.\\tG\\tT\\t0.05\\tLowQual\\tAC=1;AF=1.00;AN=1;DP=3;Dels=0.33;FS=0.000;HaplotypeScore=4.8325;MLEAC=1;MLEAF=1.00;MQ=100.00;MQ0=0;QD=0.02;SOR=1.609\\tGT:AD:DP:GQ:PL\\t1:0,1:2:11:11,0',\n",
       "  '17\\t7573985\\t.\\tA\\tC\\t0\\tLowQual\\tAC=0;AF=0.00;AN=1;BaseQRankSum=0.804;DP=3;Dels=0.00;FS=0.000;HaplotypeScore=3.2125;MLEAC=0;MLEAF=0.00;MQ=100.00;MQ0=0;MQRankSum=0.804;ReadPosRankSum=0.804;SOR=0.693\\tGT:AD:DP:GQ:PL\\t0:2,1:3:18:0,18',\n",
       "  '17\\t7574013\\t.\\tG\\tA\\t28.01\\tLowQual\\tAC=1;AF=1.00;AN=1;DP=4;Dels=0.00;FS=0.000;HaplotypeScore=3.6671;MLEAC=1;MLEAF=1.00;MQ=96.69;MQ0=0;QD=7.00;SOR=2.833\\tGT:AD:DP:GQ:PL\\t1:0,4:4:58:58,0'],\n",
       " [],\n",
       " ['17\\t7577123\\t.\\tA\\tC\\t0\\tLowQual\\tAC=0;AF=0.00;AN=1;DP=3;Dels=0.00;FS=0.000;HaplotypeScore=2.9986;MLEAC=0;MLEAF=0.00;MQ=100.00;MQ0=0;SOR=0.105\\tGT:AD:DP:GQ:PL\\t0:2,1:3:34:0,34',\n",
       "  '17\\t7577127\\t.\\tC\\tA\\t0\\tLowQual\\tAC=0;AF=0.00;AN=1;BaseQRankSum=-0.736;DP=3;Dels=0.00;FS=0.000;HaplotypeScore=3.8653;MLEAC=0;MLEAF=0.00;MQ=100.00;MQ0=0;MQRankSum=-0.736;ReadPosRankSum=0.736;SOR=0.368\\tGT:AD:DP:GQ:PL\\t0:2,1:3:23:0,23',\n",
       "  '17\\t7577134\\t.\\tG\\tA\\t0\\tLowQual\\tAC=0;AF=0.00;AN=1;BaseQRankSum=0.736;DP=3;Dels=0.00;FS=0.000;HaplotypeScore=3.8653;MLEAC=0;MLEAF=0.00;MQ=100.00;MQ0=0;MQRankSum=0.736;ReadPosRankSum=-0.736;SOR=0.368\\tGT:AD:DP:GQ:PL\\t0:2,1:3:24:0,24'],\n",
       " ['17\\t7576553\\t.\\tA\\tG\\t0.07\\tLowQual\\tAC=1;AF=1.00;AN=1;DP=3;Dels=0.33;FS=0.000;HaplotypeScore=0.9159;MLEAC=1;MLEAF=1.00;MQ=100.00;MQ0=0;QD=0.02;SOR=1.609\\tGT:AD:DP:GQ:PL\\t1:1,1:2:12:12,0',\n",
       "  '17\\t7576623\\t.\\tC\\tA\\t0\\tLowQual\\tAC=0;AF=0.00;AN=1;BaseQRankSum=0.804;DP=4;Dels=0.50;FS=0.000;HaplotypeScore=12.2924;MLEAC=0;MLEAF=0.00;MQ=88.35;MQ0=0;MQRankSum=0.804;ReadPosRankSum=0.804;SOR=0.693\\tGT:AD:DP:GQ:PL\\t0:1,1:2:6:0,6',\n",
       "  '17\\t7576630\\t.\\tA\\tG\\t0\\tLowQual\\tAC=1;AF=1.00;AN=1;DP=4;Dels=0.00;FS=0.000;HaplotypeScore=5.0351;MLEAC=0;MLEAF=0.00;MQ=88.35;MQ0=0;QD=-0.00;SOR=1.609\\tGT:AD:DP:GQ:PL\\t1:2,2:4:1:1,0'],\n",
       " [],\n",
       " [],\n",
       " [],\n",
       " [],\n",
       " ['17\\t7576553\\t.\\tA\\tG\\t0\\tLowQual\\tAC=1;AF=1.00;AN=1;BaseQRankSum=0.736;DP=5;Dels=0.20;FS=0.000;HaplotypeScore=4.5823;MLEAC=0;MLEAF=0.00;MQ=100.00;MQ0=0;MQRankSum=0.736;QD=-0.00;ReadPosRankSum=-0.736;SOR=0.368\\tGT:AD:DP:GQ:PL\\t1:2,2:4:1:1,0',\n",
       "  '17\\t7576611\\t.\\tT\\tA\\t0.07\\tLowQual\\tAC=1;AF=1.00;AN=1;DP=1;Dels=0.00;FS=0.000;HaplotypeScore=0.0000;MLEAC=1;MLEAF=1.00;MQ=100.00;MQ0=0;QD=0.07;SOR=1.609\\tGT:AD:DP:GQ:PL\\t1:0,1:1:12:12,0'],\n",
       " ['17\\t7577556\\t.\\tC\\tA\\t0.03\\tLowQual\\tAC=1;AF=1.00;AN=1;DP=1;Dels=0.00;FS=0.000;HaplotypeScore=0.0000;MLEAC=1;MLEAF=1.00;MQ=100.00;MQ0=0;QD=0.03;SOR=0.693\\tGT:AD:DP:GQ:PL\\t1:0,1:1:8:8,0'],\n",
       " [],\n",
       " ['17\\t7577101\\t.\\tC\\tT\\t0.17\\tLowQual\\tAC=1;AF=1.00;AN=1;DP=1;Dels=0.00;FS=0.000;HaplotypeScore=0.0000;MLEAC=1;MLEAF=1.00;MQ=100.00;MQ0=0;QD=0.17;SOR=1.609\\tGT:AD:DP:GQ:PL\\t1:0,1:1:16:16,0',\n",
       "  '17\\t7577109\\t.\\tA\\tT\\t0.07\\tLowQual\\tAC=1;AF=1.00;AN=1;DP=1;Dels=0.00;FS=0.000;HaplotypeScore=0.0000;MLEAC=1;MLEAF=1.00;MQ=100.00;MQ0=0;QD=0.07;SOR=1.609\\tGT:AD:DP:GQ:PL\\t1:0,1:1:12:12,0'],\n",
       " [],\n",
       " [],\n",
       " ['17\\t7577144\\t.\\tA\\tC\\t0\\tLowQual\\tAC=0;AF=0.00;AN=1;BaseQRankSum=0.736;DP=4;Dels=0.25;FS=0.000;HaplotypeScore=1.9330;MLEAC=0;MLEAF=0.00;MQ=100.00;MQ0=0;MQRankSum=0.736;ReadPosRankSum=0.736;SOR=0.368\\tGT:AD:DP:GQ:PL\\t0:2,1:3:8:0,8'],\n",
       " ['17\\t7577134\\t.\\tG\\tA\\t0\\tLowQual\\tAC=0;AF=0.00;AN=1;BaseQRankSum=-0.736;DP=3;Dels=0.00;FS=0.000;HaplotypeScore=0.0000;MLEAC=0;MLEAF=0.00;MQ=100.00;MQ0=0;MQRankSum=0.736;ReadPosRankSum=0.736;SOR=0.368\\tGT:AD:DP:GQ:PL\\t0:2,1:3:28:0,28',\n",
       "  '17\\t7577135\\t.\\tT\\tA\\t0\\tLowQual\\tAC=0;AF=0.00;AN=1;BaseQRankSum=-0.736;DP=3;Dels=0.00;FS=0.000;HaplotypeScore=0.0000;MLEAC=0;MLEAF=0.00;MQ=100.00;MQ0=0;MQRankSum=0.736;ReadPosRankSum=0.736;SOR=0.368\\tGT:AD:DP:GQ:PL\\t0:2,1:3:36:0,36'],\n",
       " [],\n",
       " ['17\\t7576638\\t.\\tT\\tC\\t0.01\\tLowQual\\tAC=1;AF=1.00;AN=1;DP=2;Dels=0.50;FS=0.000;HaplotypeScore=0.0000;MLEAC=1;MLEAF=1.00;MQ=100.00;MQ0=0;QD=0.01;SOR=0.693\\tGT:AD:DP:GQ:PL\\t1:0,1:1:5:5,0'],\n",
       " [],\n",
       " [],\n",
       " [],\n",
       " ['17\\t7576607\\t.\\tA\\tG\\t0.07\\tLowQual\\tAC=1;AF=1.00;AN=1;DP=1;Dels=0.00;FS=0.000;HaplotypeScore=0.0000;MLEAC=1;MLEAF=1.00;MQ=53.00;MQ0=0;QD=0.07;SOR=1.609\\tGT:AD:DP:GQ:PL\\t1:0,1:1:12:12,0',\n",
       "  '17\\t7576630\\t.\\tA\\tG\\t0.05\\tLowQual\\tAC=1;AF=1.00;AN=1;DP=1;Dels=0.00;FS=0.000;HaplotypeScore=0.0000;MLEAC=1;MLEAF=1.00;MQ=53.00;MQ0=0;QD=0.05;SOR=1.609\\tGT:AD:DP:GQ:PL\\t1:0,1:1:11:11,0'],\n",
       " [],\n",
       " [],\n",
       " ['17\\t7577123\\t.\\tA\\tC\\t0\\tLowQual\\tAC=0;AF=0.00;AN=1;BaseQRankSum=0.804;DP=2;Dels=0.00;FS=0.000;HaplotypeScore=0.0000;MLEAC=0;MLEAF=0.00;MQ=100.00;MQ0=0;MQRankSum=0.804;ReadPosRankSum=0.804;SOR=0.693\\tGT:AD:DP:GQ:PL\\t0:1,1:2:2:0,2',\n",
       "  '17\\t7577126\\t.\\tT\\tA\\t0\\tLowQual\\tAC=0;AF=0.00;AN=1;BaseQRankSum=0.804;DP=2;Dels=0.00;FS=0.000;HaplotypeScore=0.0000;MLEAC=0;MLEAF=0.00;MQ=100.00;MQ0=0;MQRankSum=0.804;ReadPosRankSum=0.804;SOR=0.693\\tGT:AD:DP:GQ:PL\\t0:1,1:2:5:0,5'],\n",
       " ['17\\t7577132\\t.\\tC\\tT\\t0.27\\tLowQual\\tAC=1;AF=1.00;AN=1;BaseQRankSum=0.736;DP=4;Dels=0.00;FS=0.000;HaplotypeScore=7.1197;MLEAC=1;MLEAF=1.00;MQ=100.00;MQ0=0;MQRankSum=0.736;QD=0.07;ReadPosRankSum=0.736;SOR=1.179\\tGT:AD:DP:GQ:PL\\t1:1,3:4:18:18,0',\n",
       "  '17\\t7577140\\t.\\tT\\tC\\t12.27\\tLowQual\\tAC=1;AF=1.00;AN=1;DP=4;Dels=0.00;FS=0.000;HaplotypeScore=6.5039;MLEAC=1;MLEAF=1.00;MQ=100.00;MQ0=0;QD=3.07;SOR=2.303\\tGT:AD:DP:GQ:PL\\t1:1,2:4:42:42,0'],\n",
       " [],\n",
       " [],\n",
       " []]"
      ]
     },
     "execution_count": 13,
     "metadata": {},
     "output_type": "execute_result"
    }
   ],
   "source": [
    "data_"
   ]
  },
  {
   "cell_type": "code",
   "execution_count": 9,
   "metadata": {},
   "outputs": [],
   "source": [
    "dl.plot_vcf_snps(data)"
   ]
  },
  {
   "cell_type": "code",
   "execution_count": 28,
   "metadata": {},
   "outputs": [],
   "source": [
    "#heatmap\n",
    "#Dictionary with sequence : list of dictionary with A, C, T, G\n",
    "sequence =[]\n",
    "mutation = []\n",
    "points = 0\n",
    "for items in data:\n",
    "    for i in items:\n",
    "        sequence_ = ([j.split('\\t')[3] for j in i])\n",
    "        sequence.append([''.join(sequence_)])\n",
    "\n",
    "for mut in data_:\n",
    "    mutation_ = ([m.split('\\t')[4] for m in mut])\n",
    "    if not mutation_:\n",
    "        continue\n",
    "    else:\n",
    "        mutation.append(mutation_) \n",
    "        "
   ]
  },
  {
   "cell_type": "code",
   "execution_count": 29,
   "metadata": {},
   "outputs": [
    {
     "data": {
      "text/plain": [
       "[['T', 'G'],\n",
       " ['T'],\n",
       " ['G', 'A'],\n",
       " ['A', 'A', 'G'],\n",
       " ['G', 'G'],\n",
       " ['A', 'A', 'A', 'A'],\n",
       " ['A'],\n",
       " ['A', 'C', 'G', 'G'],\n",
       " ['A', 'T'],\n",
       " ['A', 'A', 'T', 'C', 'A'],\n",
       " ['C', 'A', 'A'],\n",
       " ['G', 'A', 'G'],\n",
       " ['G', 'A'],\n",
       " ['A'],\n",
       " ['T', 'T'],\n",
       " ['C'],\n",
       " ['A', 'A'],\n",
       " ['C'],\n",
       " ['G', 'G'],\n",
       " ['C', 'A'],\n",
       " ['T', 'C']]"
      ]
     },
     "execution_count": 29,
     "metadata": {},
     "output_type": "execute_result"
    }
   ],
   "source": [
    "[l[i:i + n] for i in range(0, len(l), n)]"
   ]
  },
  {
   "cell_type": "code",
   "execution_count": null,
   "metadata": {
    "collapsed": true
   },
   "outputs": [],
   "source": [
    "#ugly code = mutated_reads_vcf_only"
   ]
  },
  {
   "cell_type": "code",
   "execution_count": null,
   "metadata": {
    "collapsed": true
   },
   "outputs": [],
   "source": [
    "#Extra Notes From Here on out "
   ]
  },
  {
   "cell_type": "code",
   "execution_count": null,
   "metadata": {
    "collapsed": true,
    "scrolled": true
   },
   "outputs": [],
   "source": [
    "file = 'test1.vcf'"
   ]
  },
  {
   "cell_type": "code",
   "execution_count": null,
   "metadata": {},
   "outputs": [],
   "source": [
    "dl.vcf_whole_sequence_strip(file)"
   ]
  },
  {
   "cell_type": "code",
   "execution_count": null,
   "metadata": {
    "collapsed": true
   },
   "outputs": [],
   "source": [
    "#amount of bases in vcf file #7590856-7565098=25758"
   ]
  },
  {
   "cell_type": "code",
   "execution_count": null,
   "metadata": {
    "collapsed": true
   },
   "outputs": [],
   "source": [
    "data = dl.data_vcf_file(file)\n",
    "\n",
    "id_ = list(data.keys())[0]\n",
    "variance = data[id_]['variance']\n",
    "backbone = data[id_]['backbone']\n",
    "\n",
    "data_all = dl.vcf_whole_sequence_strip(file)"
   ]
  },
  {
   "cell_type": "code",
   "execution_count": null,
   "metadata": {
    "collapsed": true
   },
   "outputs": [],
   "source": [
    "#backbone_data = dl.mutated_reads_vcf_only(backbone, data_all)\n",
    "#variance_data = dl.mutated_reads_vcf_only(variance, data_all)"
   ]
  },
  {
   "cell_type": "code",
   "execution_count": null,
   "metadata": {
    "collapsed": true
   },
   "outputs": [],
   "source": [
    "#ugly code = mutated_reads_vcf_only -> make scores shorter in 1\n",
    "score_ = []\n",
    "score = []\n",
    "for items in variance:\n",
    "    breakpoint = '\\t'\n",
    "    score_.append(items.split(breakpoint, 9)[9])\n",
    "\n",
    "for i in filter(dl.filter_score, score_):\n",
    "    score.append(i)\n",
    "\n",
    "score2 = []\n",
    "for s in score:\n",
    "    score2.append(s.split(':')[1].split(','))\n",
    "\n",
    "score3 = []\n",
    "for s2 in score:\n",
    "    score3.append(s2.split(':')[2])\n",
    "\n",
    "score4 = []\n",
    "for s3 in score:\n",
    "    score4.append(s3.split(':')[3])\n",
    "\n",
    "score5 = []\n",
    "for s4 in score:\n",
    "    score5.append(s4.split(':')[4])\n",
    "\n",
    "score6 = []\n",
    "for s5 in score:\n",
    "    score6.append(s5.split(':')[2]+':'+s5.split(':')[3]+':'+s5.split(':')[4])\n",
    "\n",
    "    \n",
    "points = 0\n",
    "highmutated = []\n",
    "extended = []\n",
    "for item in score2:\n",
    "    number1 = int(item[0])\n",
    "    number2 = int(item[1])\n",
    "    if number2/(number1+number2) > 0.25:\n",
    "        for i, items in enumerate(data_all):\n",
    "            mutated = ':'+','.join(item[0:2])+':'+score6[points]\n",
    "            print(mutated)\n",
    "            if mutated in items:\n",
    "                highmutated.append(items)\n",
    "                extended.append(data_all[i-3:i+4])\n",
    "    points += 1\n",
    "points = False"
   ]
  },
  {
   "cell_type": "code",
   "execution_count": null,
   "metadata": {
    "collapsed": true
   },
   "outputs": [],
   "source": [
    "#print where score is not found to be 0,99 because reads are missing"
   ]
  },
  {
   "cell_type": "code",
   "execution_count": null,
   "metadata": {
    "collapsed": true
   },
   "outputs": [],
   "source": [
    "#list filter\n",
    "def f(s):\n",
    "    if 'ATC' in s:\n",
    "        return True\n",
    "    return False\n",
    "\n",
    "l = ['EWRWRWERWERWER','RTYRTY','asdasdATCasdasd']\n",
    "\n",
    "for i in filter(f, l):\n",
    "    print(i)"
   ]
  },
  {
   "cell_type": "code",
   "execution_count": null,
   "metadata": {
    "collapsed": true
   },
   "outputs": [],
   "source": [
    "# index\n",
    "for idx, item in enumerate(['a','b','c']):\n",
    "    print(idx,item)"
   ]
  },
  {
   "cell_type": "code",
   "execution_count": null,
   "metadata": {
    "collapsed": true
   },
   "outputs": [],
   "source": [
    "highmutated = []\n",
    "extended = []\n",
    "for i, item in enumerate(score2):\n",
    "    number1 = int(item[0])\n",
    "    number2 = int(item[1])\n",
    "    if number2/(number1+number2) > 0.25:\n",
    "        for items in variance:\n",
    "            mutated = ','.join(item[0:2])\n",
    "            if mutated in items:\n",
    "                highmutated.append(items)\n",
    "                extended.append(score2[i-3:i+3])\n",
    "                \n",
    "highmutated = []\n",
    "for item in score2:\n",
    "    number1 = int(item[0])\n",
    "    number2 = int(item[1])\n",
    "    if number2/(number1+number2) > 0.25:\n",
    "        for items in variance:\n",
    "            mutated = ','.join(item[0:2])\n",
    "            if mutated in items:\n",
    "                highmutated.append(items)"
   ]
  },
  {
   "cell_type": "code",
   "execution_count": null,
   "metadata": {
    "collapsed": true
   },
   "outputs": [],
   "source": [
    "score = []\n",
    "for items in variance:\n",
    "    breakpoint = '\\t'\n",
    "    score.append(items.split(breakpoint, 9)[9])\n",
    "\n",
    "score2 = []\n",
    "for s in score:\n",
    "    score2.append(s.split(':')[1].split(','))\n",
    "\n",
    "highmutated = []\n",
    "extended = []\n",
    "points = 0  \n",
    "for item in score2:\n",
    "    number1 = int(item[0])\n",
    "    number2 = int(item[1])\n",
    "    if number2/(number1+number2) >= 0.25:\n",
    "        for i, items in enumerate(data_all):\n",
    "            mutated = ','.join(item[0:2])+':'+score3[points]\n",
    "            print(mutated)\n",
    "            if mutated in items:\n",
    "                highmutated.append(items)\n",
    "                extended.append(data_all[i-3:i+4])\n",
    "    points += 1\n",
    "points = False\n",
    "\n",
    "score3 = []\n",
    "for s2 in score:\n",
    "    score3.append(s2.split(':')[2])"
   ]
  }
 ],
 "metadata": {
  "kernelspec": {
   "display_name": "Python 3",
   "language": "python",
   "name": "python3"
  },
  "language_info": {
   "codemirror_mode": {
    "name": "ipython",
    "version": 3
   },
   "file_extension": ".py",
   "mimetype": "text/x-python",
   "name": "python",
   "nbconvert_exporter": "python",
   "pygments_lexer": "ipython3",
   "version": "3.6.3"
  }
 },
 "nbformat": 4,
 "nbformat_minor": 2
}
